{
 "cells": [
  {
   "cell_type": "code",
   "execution_count": 1,
   "id": "c8ad84e0-03f7-4acd-ab64-43d9a6138191",
   "metadata": {},
   "outputs": [
    {
     "name": "stdout",
     "output_type": "stream",
     "text": [
      "download: s3://rowerki/1654376693.csv to data/1654376693.csv        \n"
     ]
    }
   ],
   "source": [
    "!aws s3 sync s3://rowerki ./data"
   ]
  },
  {
   "cell_type": "code",
   "execution_count": 2,
   "id": "215c7cca-86f5-40d0-833a-fe09d11f5027",
   "metadata": {},
   "outputs": [],
   "source": [
    "# univariate multi-step encoder-decoder convlstm\n",
    "import sys, os\n",
    "sys.path.append('..')\n",
    "import utils\n",
    "import numpy as np\n",
    "import pandas as pd\n",
    "from math import sqrt\n",
    "import json\n",
    "import matplotlib.pyplot as plt\n",
    "from numpy import split\n",
    "from numpy import array\n",
    "from datetime import datetime, timedelta \n",
    "from pandas import read_csv\n",
    "from sklearn.metrics import mean_squared_error\n",
    "from matplotlib import pyplot\n",
    "from keras.models import Sequential\n",
    "from keras.layers import Dense\n",
    "from keras.layers import Flatten\n",
    "from keras.layers import LSTM\n",
    "from keras.layers import RepeatVector\n",
    "from keras.layers import TimeDistributed\n",
    "from keras.layers import ConvLSTM2D"
   ]
  },
  {
   "cell_type": "code",
   "execution_count": 3,
   "id": "567eea3d-11ed-4e47-965c-6bd5d212c0a5",
   "metadata": {},
   "outputs": [],
   "source": [
    "# split a univariate dataset into train/test sets\n",
    "def split_dataset(data):\n",
    "    # split into standard weeks\n",
    "    train, test = data[1:-328], data[-328:-6]\n",
    "    # restructure into windows of weekly data\n",
    "    train = array(split(train, len(train)/7))\n",
    "    test = array(split(test, len(test)/7))\n",
    "    return train, test\n",
    " \n",
    "# evaluate one or more weekly forecasts against expected values\n",
    "def evaluate_forecasts(actual, predicted):\n",
    "    scores = list()\n",
    "    # calculate an RMSE score for each day\n",
    "    for i in range(actual.shape[1]):\n",
    "        # calculate mse\n",
    "        mse = mean_squared_error(actual[:, i], predicted[:, i])\n",
    "        # calculate rmse\n",
    "        rmse = sqrt(mse)\n",
    "        # store\n",
    "        scores.append(rmse)\n",
    "    # calculate overall RMSE\n",
    "    s = 0\n",
    "    for row in range(actual.shape[0]):\n",
    "        for col in range(actual.shape[1]):\n",
    "            s += (actual[row, col] - predicted[row, col])**2\n",
    "    score = sqrt(s / (actual.shape[0] * actual.shape[1]))\n",
    "    return score, scores\n",
    " \n",
    "# summarize scores\n",
    "def summarize_scores(name, score, scores):\n",
    "    s_scores = ', '.join(['%.1f' % s for s in scores])\n",
    "    print('%s: [%.3f] %s' % (name, score, s_scores))\n",
    " \n",
    "# convert history into inputs and outputs\n",
    "def to_supervised(train, n_input, n_out=7):\n",
    "    # flatten data\n",
    "    data = train.reshape((train.shape[0]*train.shape[1], train.shape[2]))\n",
    "    X, y = list(), list()\n",
    "    in_start = 0\n",
    "    # step over the entire history one time step at a time\n",
    "    for _ in range(len(data)):\n",
    "        # define the end of the input sequence\n",
    "        in_end = in_start + n_input\n",
    "        out_end = in_end + n_out\n",
    "        # ensure we have enough data for this instance\n",
    "        if out_end <= len(data):\n",
    "            x_input = data[in_start:in_end, 0]\n",
    "            x_input = x_input.reshape((len(x_input), 1))\n",
    "            X.append(x_input)\n",
    "            y.append(data[in_end:out_end, 0])\n",
    "        # move along one time step\n",
    "        in_start += 1\n",
    "    return array(X), array(y)\n",
    " \n",
    "# train the model\n",
    "def build_model(train, n_steps, n_length, n_input):\n",
    "    # prepare data\n",
    "    train_x, train_y = to_supervised(train, n_input)\n",
    "    # define parameters\n",
    "    verbose, epochs, batch_size = 0, 20, 16\n",
    "    n_timesteps, n_features, n_outputs = train_x.shape[1], train_x.shape[2], train_y.shape[1]\n",
    "    # reshape into subsequences [samples, time steps, rows, cols, channels]\n",
    "    train_x = train_x.reshape((train_x.shape[0], n_steps, 1, n_length, n_features))\n",
    "    # reshape output into [samples, timesteps, features]\n",
    "    train_y = train_y.reshape((train_y.shape[0], train_y.shape[1], 1))\n",
    "    # define model\n",
    "    model = Sequential()\n",
    "    model.add(ConvLSTM2D(filters=64, kernel_size=(1,3), activation='relu', input_shape=(n_steps, 1, n_length, n_features)))\n",
    "    model.add(Flatten())\n",
    "    model.add(RepeatVector(n_outputs))\n",
    "    model.add(LSTM(200, activation='relu', return_sequences=True))\n",
    "    model.add(TimeDistributed(Dense(100, activation='relu')))\n",
    "    model.add(TimeDistributed(Dense(1)))\n",
    "    model.compile(loss='mse', optimizer='adam')\n",
    "    # fit network\n",
    "    model.fit(train_x, train_y, epochs=epochs, batch_size=batch_size, verbose=verbose)\n",
    "    return model\n",
    " \n",
    "# make a forecast\n",
    "def forecast(model, history, n_steps, n_length, n_input):\n",
    "    # flatten data\n",
    "    data = array(history)\n",
    "    data = data.reshape((data.shape[0]*data.shape[1], data.shape[2]))\n",
    "    # retrieve last observations for input data\n",
    "    input_x = data[-n_input:, 0]\n",
    "    # reshape into [samples, time steps, rows, cols, channels]\n",
    "    input_x = input_x.reshape((1, n_steps, 1, n_length, 1))\n",
    "    # forecast the next week\n",
    "    yhat = model.predict(input_x, verbose=0)\n",
    "    # we only want the vector forecast\n",
    "    yhat = yhat[0]\n",
    "    return yhat\n",
    " \n",
    "# evaluate a single model\n",
    "def evaluate_model(train, test, n_steps, n_length, n_input):\n",
    "    # fit model\n",
    "    model = build_model(train, n_steps, n_length, n_input)\n",
    "    # history is a list of weekly data\n",
    "    history = [x for x in train]\n",
    "    # walk-forward validation over each week\n",
    "    predictions = list()\n",
    "    for i in range(len(test)):\n",
    "        # predict the week\n",
    "        yhat_sequence = forecast(model, history, n_steps, n_length, n_input)\n",
    "        # store the predictions\n",
    "        predictions.append(yhat_sequence)\n",
    "        # get real observation and add to history for predicting the next week\n",
    "        history.append(test[i, :])\n",
    "    # evaluate predictions days for each week\n",
    "    predictions = array(predictions)\n",
    "    score, scores = evaluate_forecasts(test[:, :, 0], predictions)\n",
    "    return score, scores\n",
    " "
   ]
  },
  {
   "cell_type": "code",
   "execution_count": 4,
   "id": "6899c51d-5c79-4d06-a058-01ade66e155a",
   "metadata": {},
   "outputs": [],
   "source": [
    "stations = utils.get_stations()\n",
    "stations = stations[stations['place_type'] != '14'] #exclude electric stations, which are frequently very close to normal stations \n",
    "stations ['row'] = 0\n",
    "stations ['col'] = 0\n",
    "config = json.load(open('../config.json'))\n",
    "bounding_rectangle = [[min(stations['lat']),max(stations['lat']) + config['bounding_frame_eps']], \n",
    "                      [min(stations['lng']),max(stations['lng'])  + config['bounding_frame_eps']]]\n",
    "widths = [dimension[1] - dimension[0] for dimension in bounding_rectangle]\n",
    "number_of_divisions = config['number_of_divisions']\n",
    "for col in range(number_of_divisions): \n",
    "    for row in range(number_of_divisions): \n",
    "        station_in_rectangle = (stations['lat']>= (row)*widths[0]/number_of_divisions + bounding_rectangle[0][0]) &\\\n",
    "        (stations['lat']< (row+1)*widths[0]/number_of_divisions + bounding_rectangle[0][0]) &\\\n",
    "        (stations['lng']>= (col)*widths[1]/number_of_divisions + bounding_rectangle[1][0]) &\\\n",
    "        (stations['lng']< (col+1)*widths[1]/number_of_divisions + bounding_rectangle[1][0])\n",
    "        if sum(station_in_rectangle) >1:\n",
    "            raise(Exception(\"More than 1 station\"))   \n",
    "        if sum(station_in_rectangle) ==1:\n",
    "            stations.loc[station_in_rectangle, [\"row\", \"col\"]] = [number_of_divisions - row - 1, col]"
   ]
  },
  {
   "cell_type": "code",
   "execution_count": 5,
   "id": "ce61561b-79e8-4cb4-bd5f-8747fc544962",
   "metadata": {},
   "outputs": [],
   "source": [
    "for _ in range(3): #downsampling 3 times\n",
    "    stations[[\"row\", \"col\"]]=stations[[\"row\", \"col\"]]//2\n",
    "    while not stations[[\"row\", \"col\"]].duplicated().any():\n",
    "        stations[[\"row\", \"col\"]] += stations[[\"row\", \"col\"]].groupby([\"row\", \"col\"]).cumcount()"
   ]
  },
  {
   "cell_type": "code",
   "execution_count": 6,
   "id": "fc7fef2a-d374-4151-821f-406c96c32c51",
   "metadata": {},
   "outputs": [
    {
     "data": {
      "text/html": [
       "<div>\n",
       "<style scoped>\n",
       "    .dataframe tbody tr th:only-of-type {\n",
       "        vertical-align: middle;\n",
       "    }\n",
       "\n",
       "    .dataframe tbody tr th {\n",
       "        vertical-align: top;\n",
       "    }\n",
       "\n",
       "    .dataframe thead th {\n",
       "        text-align: right;\n",
       "    }\n",
       "</style>\n",
       "<table border=\"1\" class=\"dataframe\">\n",
       "  <thead>\n",
       "    <tr style=\"text-align: right;\">\n",
       "      <th></th>\n",
       "      <th>lat</th>\n",
       "      <th>lng</th>\n",
       "      <th>row</th>\n",
       "      <th>col</th>\n",
       "      <th>date</th>\n",
       "      <th>bike_count</th>\n",
       "      <th>just_returned</th>\n",
       "      <th>just_rented</th>\n",
       "    </tr>\n",
       "  </thead>\n",
       "  <tbody>\n",
       "    <tr>\n",
       "      <th>0</th>\n",
       "      <td>52.116353</td>\n",
       "      <td>21.087702</td>\n",
       "      <td>38</td>\n",
       "      <td>33</td>\n",
       "      <td>2022-04-24 15:00:00</td>\n",
       "      <td>25.0</td>\n",
       "      <td>26</td>\n",
       "      <td>1.0</td>\n",
       "    </tr>\n",
       "    <tr>\n",
       "      <th>1</th>\n",
       "      <td>52.116353</td>\n",
       "      <td>21.087702</td>\n",
       "      <td>38</td>\n",
       "      <td>33</td>\n",
       "      <td>2022-04-24 16:00:00</td>\n",
       "      <td>18.0</td>\n",
       "      <td>2</td>\n",
       "      <td>4.0</td>\n",
       "    </tr>\n",
       "    <tr>\n",
       "      <th>2</th>\n",
       "      <td>52.116353</td>\n",
       "      <td>21.087702</td>\n",
       "      <td>38</td>\n",
       "      <td>33</td>\n",
       "      <td>2022-04-24 17:00:00</td>\n",
       "      <td>11.0</td>\n",
       "      <td>8</td>\n",
       "      <td>20.0</td>\n",
       "    </tr>\n",
       "    <tr>\n",
       "      <th>3</th>\n",
       "      <td>52.116353</td>\n",
       "      <td>21.087702</td>\n",
       "      <td>38</td>\n",
       "      <td>33</td>\n",
       "      <td>2022-04-24 18:00:00</td>\n",
       "      <td>8.0</td>\n",
       "      <td>0</td>\n",
       "      <td>3.0</td>\n",
       "    </tr>\n",
       "    <tr>\n",
       "      <th>4</th>\n",
       "      <td>52.116353</td>\n",
       "      <td>21.087702</td>\n",
       "      <td>38</td>\n",
       "      <td>33</td>\n",
       "      <td>2022-04-24 19:00:00</td>\n",
       "      <td>8.0</td>\n",
       "      <td>0</td>\n",
       "      <td>0.0</td>\n",
       "    </tr>\n",
       "    <tr>\n",
       "      <th>...</th>\n",
       "      <td>...</td>\n",
       "      <td>...</td>\n",
       "      <td>...</td>\n",
       "      <td>...</td>\n",
       "      <td>...</td>\n",
       "      <td>...</td>\n",
       "      <td>...</td>\n",
       "      <td>...</td>\n",
       "    </tr>\n",
       "    <tr>\n",
       "      <th>335894</th>\n",
       "      <td>52.350106</td>\n",
       "      <td>20.945616</td>\n",
       "      <td>0</td>\n",
       "      <td>11</td>\n",
       "      <td>2022-06-04 17:00:00</td>\n",
       "      <td>7.0</td>\n",
       "      <td>0</td>\n",
       "      <td>1.0</td>\n",
       "    </tr>\n",
       "    <tr>\n",
       "      <th>335895</th>\n",
       "      <td>52.350106</td>\n",
       "      <td>20.945616</td>\n",
       "      <td>0</td>\n",
       "      <td>11</td>\n",
       "      <td>2022-06-04 18:00:00</td>\n",
       "      <td>7.0</td>\n",
       "      <td>2</td>\n",
       "      <td>2.0</td>\n",
       "    </tr>\n",
       "    <tr>\n",
       "      <th>335896</th>\n",
       "      <td>52.350106</td>\n",
       "      <td>20.945616</td>\n",
       "      <td>0</td>\n",
       "      <td>11</td>\n",
       "      <td>2022-06-04 19:00:00</td>\n",
       "      <td>7.0</td>\n",
       "      <td>0</td>\n",
       "      <td>0.0</td>\n",
       "    </tr>\n",
       "    <tr>\n",
       "      <th>335897</th>\n",
       "      <td>52.350106</td>\n",
       "      <td>20.945616</td>\n",
       "      <td>0</td>\n",
       "      <td>11</td>\n",
       "      <td>2022-06-04 20:00:00</td>\n",
       "      <td>9.0</td>\n",
       "      <td>2</td>\n",
       "      <td>0.0</td>\n",
       "    </tr>\n",
       "    <tr>\n",
       "      <th>335898</th>\n",
       "      <td>52.350106</td>\n",
       "      <td>20.945616</td>\n",
       "      <td>0</td>\n",
       "      <td>11</td>\n",
       "      <td>2022-06-04 21:00:00</td>\n",
       "      <td>9.0</td>\n",
       "      <td>0</td>\n",
       "      <td>0.0</td>\n",
       "    </tr>\n",
       "  </tbody>\n",
       "</table>\n",
       "<p>335899 rows × 8 columns</p>\n",
       "</div>"
      ],
      "text/plain": [
       "              lat        lng  row  col                date  bike_count  \\\n",
       "0       52.116353  21.087702   38   33 2022-04-24 15:00:00        25.0   \n",
       "1       52.116353  21.087702   38   33 2022-04-24 16:00:00        18.0   \n",
       "2       52.116353  21.087702   38   33 2022-04-24 17:00:00        11.0   \n",
       "3       52.116353  21.087702   38   33 2022-04-24 18:00:00         8.0   \n",
       "4       52.116353  21.087702   38   33 2022-04-24 19:00:00         8.0   \n",
       "...           ...        ...  ...  ...                 ...         ...   \n",
       "335894  52.350106  20.945616    0   11 2022-06-04 17:00:00         7.0   \n",
       "335895  52.350106  20.945616    0   11 2022-06-04 18:00:00         7.0   \n",
       "335896  52.350106  20.945616    0   11 2022-06-04 19:00:00         7.0   \n",
       "335897  52.350106  20.945616    0   11 2022-06-04 20:00:00         9.0   \n",
       "335898  52.350106  20.945616    0   11 2022-06-04 21:00:00         9.0   \n",
       "\n",
       "        just_returned  just_rented  \n",
       "0                  26          1.0  \n",
       "1                   2          4.0  \n",
       "2                   8         20.0  \n",
       "3                   0          3.0  \n",
       "4                   0          0.0  \n",
       "...               ...          ...  \n",
       "335894              0          1.0  \n",
       "335895              2          2.0  \n",
       "335896              0          0.0  \n",
       "335897              2          0.0  \n",
       "335898              0          0.0  \n",
       "\n",
       "[335899 rows x 8 columns]"
      ]
     },
     "execution_count": 6,
     "metadata": {},
     "output_type": "execute_result"
    }
   ],
   "source": [
    "bikes = utils.read_bikes()\n",
    "grouped = utils.rented_returned_amount(bikes, stations)\n",
    "del bikes \n",
    "grouped = grouped.set_index(\"date\").groupby([\"lat\", \"lng\", \"row\", \"col\"]).resample('h').agg({\"bike_count\": 'last', \"just_returned\": sum, \"just_rented\": sum}).reset_index()\n",
    "grouped "
   ]
  },
  {
   "cell_type": "code",
   "execution_count": 7,
   "id": "89538137-99c0-4533-aab5-d9fc5bec2287",
   "metadata": {},
   "outputs": [
    {
     "name": "stderr",
     "output_type": "stream",
     "text": [
      "Clipping input data to the valid range for imshow with RGB data ([0..1] for floats or [0..255] for integers).\n"
     ]
    },
    {
     "data": {
      "text/plain": [
       "<matplotlib.image.AxesImage at 0x7f6357cff590>"
      ]
     },
     "execution_count": 7,
     "metadata": {},
     "output_type": "execute_result"
    },
    {
     "data": {
      "image/png": "[encoded data removed]",
      "text/plain": [
       "<Figure size 1440x1440 with 1 Axes>"
      ]
     },
     "metadata": {
      "needs_background": "light"
     },
     "output_type": "display_data"
    }
   ],
   "source": [
    "imgs = {}\n",
    "for dt in grouped['date'].unique(): \n",
    "    img = np.zeros([max(stations['row'])+1, max(stations['col'])+1, 3])\n",
    "    for stats in grouped[grouped['date'] == dt].to_dict('records'):\n",
    "        img[stats['row'], stats['col'], :] = [stats[\"bike_count\"],stats[\"just_returned\"],stats[\"just_rented\"]]\n",
    "    imgs[dt] = img\n",
    "plt.figure(figsize=(20,20))\n",
    "plt.imshow(list(imgs.values())[3])"
   ]
  },
  {
   "cell_type": "code",
   "execution_count": 8,
   "id": "aab87a00-660c-461b-afa7-aef46af4ffe3",
   "metadata": {},
   "outputs": [],
   "source": [
    "del grouped "
   ]
  },
  {
   "cell_type": "code",
   "execution_count": 9,
   "id": "99078dd2-ac33-4bee-9b7b-d555f0d1c049",
   "metadata": {
    "tags": []
   },
   "outputs": [
    {
     "data": {
      "text/plain": [
       "(48, 39, 39, 3)"
      ]
     },
     "execution_count": 9,
     "metadata": {},
     "output_type": "execute_result"
    }
   ],
   "source": [
    "train, test = [], []\n",
    "for day, image in sorted(imgs.items(), key=lambda x: x[0]):\n",
    "    day = pd.to_datetime(day)\n",
    "    if (day >= datetime.now() - timedelta(days=3)) and (day <= datetime.now() - timedelta(days=1)):\n",
    "        train.append(image)\n",
    "    if (day >= datetime.now() - timedelta(days=1)):\n",
    "        test.append(image)\n",
    "del imgs\n",
    "train = np.array(train)\n",
    "train.shape"
   ]
  },
  {
   "cell_type": "code",
   "execution_count": 10,
   "id": "15b47eaa-a80a-418c-8205-8bd187e43127",
   "metadata": {},
   "outputs": [
    {
     "data": {
      "text/plain": [
       "(42, 5, 39, 39, 3)"
      ]
     },
     "execution_count": 10,
     "metadata": {},
     "output_type": "execute_result"
    }
   ],
   "source": [
    "# convert history into inputs and outputs\n",
    "def to_supervised(data, n_input=5, n_out=2): \n",
    "    X, y = list(), list()\n",
    "    in_start = 0\n",
    "    # step over the entire history one time step at a time\n",
    "    for _ in range(data.shape[0]):\n",
    "        # define the end of the input sequence\n",
    "        in_end = in_start + n_input\n",
    "        out_end = in_end + n_out\n",
    "        # ensure we have enough data for this instance\n",
    "        if out_end <= len(data):\n",
    "            x_input = data[in_start:in_end, :] \n",
    "            X.append(x_input)\n",
    "            y.append(data[in_end, :])\n",
    "        # move along one time step\n",
    "        in_start += 1\n",
    "    return array(X), array(y)\n",
    "X_train, y_train = to_supervised(train)\n",
    "X_train, y_train = X_train/255, y_train/255 \n",
    "X_train.shape"
   ]
  },
  {
   "cell_type": "code",
   "execution_count": 11,
   "id": "4e3661d2-d889-49fb-9a9e-368b70363c44",
   "metadata": {},
   "outputs": [
    {
     "data": {
      "text/plain": [
       "(42, 4563)"
      ]
     },
     "execution_count": 11,
     "metadata": {},
     "output_type": "execute_result"
    }
   ],
   "source": [
    "y_train = y_train.reshape((y_train.shape[0], y_train.shape[1]*y_train.shape[2]*y_train.shape[3]))\n",
    "y_train.shape"
   ]
  },
  {
   "cell_type": "code",
   "execution_count": 12,
   "id": "0c5ab818-0737-4b03-82ec-0e42758a6c6f",
   "metadata": {},
   "outputs": [],
   "source": [
    "X_train = np.nan_to_num(X_train, copy=True, nan=0.0, posinf=0.0, neginf=0.0)\n",
    "y_train = np.nan_to_num(y_train, copy=True, nan=0.0, posinf=0.0, neginf=0.0)"
   ]
  },
  {
   "cell_type": "code",
   "execution_count": 13,
   "id": "f4e2ad00-ef9a-4ee8-a044-ecc63c0fd2ae",
   "metadata": {},
   "outputs": [
    {
     "name": "stderr",
     "output_type": "stream",
     "text": [
      "2022-06-04 21:13:19.783700: I tensorflow/core/common_runtime/process_util.cc:146] Creating new thread pool with default inter op setting: 2. Tune using inter_op_parallelism_threads for best performance.\n"
     ]
    },
    {
     "name": "stdout",
     "output_type": "stream",
     "text": [
      "Epoch 1/16\n",
      "1/1 [==============================] - 6s 6s/step - loss: 2.3101e-04 - accuracy: 0.0000e+00\n",
      "Epoch 2/16\n",
      "1/1 [==============================] - 2s 2s/step - loss: 2.1918e-04 - accuracy: 0.0000e+00\n",
      "Epoch 3/16\n",
      "1/1 [==============================] - 2s 2s/step - loss: 2.0750e-04 - accuracy: 0.0000e+00\n",
      "Epoch 4/16\n",
      "1/1 [==============================] - 2s 2s/step - loss: 1.9564e-04 - accuracy: 0.0000e+00\n",
      "Epoch 5/16\n",
      "1/1 [==============================] - 2s 2s/step - loss: 1.8381e-04 - accuracy: 0.0000e+00\n",
      "Epoch 6/16\n",
      "1/1 [==============================] - 2s 2s/step - loss: 1.7199e-04 - accuracy: 0.0000e+00\n",
      "Epoch 7/16\n",
      "1/1 [==============================] - 2s 2s/step - loss: 1.6014e-04 - accuracy: 0.0000e+00\n",
      "Epoch 8/16\n",
      "1/1 [==============================] - 2s 2s/step - loss: 1.4817e-04 - accuracy: 0.0000e+00\n",
      "Epoch 9/16\n",
      "1/1 [==============================] - 2s 2s/step - loss: 1.3607e-04 - accuracy: 0.0000e+00\n",
      "Epoch 10/16\n",
      "1/1 [==============================] - 2s 2s/step - loss: 1.2383e-04 - accuracy: 0.0000e+00\n",
      "Epoch 11/16\n",
      "1/1 [==============================] - 2s 2s/step - loss: 1.1152e-04 - accuracy: 0.0000e+00\n",
      "Epoch 12/16\n",
      "1/1 [==============================] - 2s 2s/step - loss: 9.9286e-05 - accuracy: 0.0000e+00\n",
      "Epoch 13/16\n",
      "1/1 [==============================] - 2s 2s/step - loss: 8.7371e-05 - accuracy: 0.0000e+00\n",
      "Epoch 14/16\n",
      "1/1 [==============================] - 2s 2s/step - loss: 7.6116e-05 - accuracy: 0.0000e+00\n",
      "Epoch 15/16\n",
      "1/1 [==============================] - 2s 2s/step - loss: 6.5952e-05 - accuracy: 0.0000e+00\n",
      "Epoch 16/16\n",
      "1/1 [==============================] - 2s 2s/step - loss: 5.7371e-05 - accuracy: 0.0000e+00\n"
     ]
    },
    {
     "data": {
      "text/plain": [
       "<keras.callbacks.History at 0x7f6357cba750>"
      ]
     },
     "execution_count": 13,
     "metadata": {},
     "output_type": "execute_result"
    }
   ],
   "source": [
    "verbose, epochs, batch_size = 1, 16, 64     \n",
    "model = Sequential()\n",
    "model.add(ConvLSTM2D(filters=12, \n",
    "                     kernel_size=(4,4),  \n",
    "                     activation='relu', \n",
    "                     input_shape=X_train.shape[1:]))\n",
    "model.add(Flatten())\n",
    "model.add(RepeatVector(1))\n",
    "model.add(LSTM(y_train.shape[-1], activation='relu', return_sequences=True))\n",
    "model.add(TimeDistributed(Dense(y_train.shape[-1], activation='relu')))\n",
    "model.add(TimeDistributed(Dense(y_train.shape[-1])))\n",
    "model.compile(loss='mse', optimizer='adam')\n",
    "# fit network\n",
    "model.fit(X_train, y_train, epochs=epochs, batch_size=batch_size, verbose=verbose)"
   ]
  },
  {
   "cell_type": "code",
   "execution_count": 14,
   "id": "117d0a6f-a8e8-4a3d-91d3-dcb143f85c43",
   "metadata": {},
   "outputs": [
    {
     "name": "stdout",
     "output_type": "stream",
     "text": [
      "Model: \"sequential\"\n",
      "_________________________________________________________________\n",
      " Layer (type)                Output Shape              Param #   \n",
      "=================================================================\n",
      " conv_lstm2d (ConvLSTM2D)    (None, 36, 36, 12)        11568     \n",
      "                                                                 \n",
      " flatten (Flatten)           (None, 15552)             0         \n",
      "                                                                 \n",
      " repeat_vector (RepeatVector  (None, 1, 15552)         0         \n",
      " )                                                               \n",
      "                                                                 \n",
      " lstm (LSTM)                 (None, 1, 4563)           367157232 \n",
      "                                                                 \n",
      " time_distributed (TimeDistr  (None, 1, 4563)          20825532  \n",
      " ibuted)                                                         \n",
      "                                                                 \n",
      " time_distributed_1 (TimeDis  (None, 1, 4563)          20825532  \n",
      " tributed)                                                       \n",
      "                                                                 \n",
      "=================================================================\n",
      "Total params: 408,819,864\n",
      "Trainable params: 408,819,864\n",
      "Non-trainable params: 0\n",
      "_________________________________________________________________\n"
     ]
    }
   ],
   "source": [
    "model.summary()"
   ]
  },
  {
   "cell_type": "code",
   "execution_count": 18,
   "id": "c7acc46e-df2f-4d0a-94c0-8aa07384f0a6",
   "metadata": {},
   "outputs": [],
   "source": [
    "#TO DO: evaluation"
   ]
  },
  {
   "cell_type": "code",
   "execution_count": null,
   "id": "243ba863-1aaf-4223-911b-28acfea13b6a",
   "metadata": {},
   "outputs": [],
   "source": []
  }
 ],
 "metadata": {
  "environment": {
   "kernel": "python3",
   "name": "tf2-gpu.2-9.m93",
   "type": "gcloud",
   "uri": "gcr.io/deeplearning-platform-release/tf2-gpu.2-9:m93"
  },
  "kernelspec": {
   "display_name": "Python 3",
   "language": "python",
   "name": "python3"
  },
  "language_info": {
   "codemirror_mode": {
    "name": "ipython",
    "version": 3
   },
   "file_extension": ".py",
   "mimetype": "text/x-python",
   "name": "python",
   "nbconvert_exporter": "python",
   "pygments_lexer": "ipython3",
   "version": "3.7.12"
  }
 },
 "nbformat": 4,
 "nbformat_minor": 5
}
