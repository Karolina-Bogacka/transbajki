{
 "cells": [
  {
   "cell_type": "code",
   "execution_count": 1,
   "id": "c8ad84e0-03f7-4acd-ab64-43d9a6138191",
   "metadata": {},
   "outputs": [
    {
     "name": "stdout",
     "output_type": "stream",
     "text": [
      "download: s3://rowerki/1654460694.csv to data/1654460694.csv        \n",
      "download: s3://rowerki/1654460094.csv to data/1654460094.csv        \n",
      "download: s3://rowerki/1654458893.csv to data/1654458893.csv        \n",
      "download: s3://rowerki/1654459494.csv to data/1654459494.csv        \n"
     ]
    }
   ],
   "source": [
    "!aws s3 sync s3://rowerki ./data"
   ]
  },
  {
   "cell_type": "code",
   "execution_count": 2,
   "id": "215c7cca-86f5-40d0-833a-fe09d11f5027",
   "metadata": {},
   "outputs": [],
   "source": [
    "# univariate multi-step encoder-decoder convlstm\n",
    "import sys, os\n",
    "sys.path.append('..')\n",
    "import utils\n",
    "import numpy as np\n",
    "import pandas as pd \n",
    "import json\n",
    "import matplotlib.pyplot as plt \n",
    "from datetime import datetime, timedelta  \n",
    "from sklearn.metrics import mean_squared_error \n",
    "from keras.models import Sequential\n",
    "from keras.layers import Dense, Flatten, LSTM, RepeatVector, TimeDistributed, ConvLSTM2D"
   ]
  },
  {
   "cell_type": "code",
   "execution_count": 3,
   "id": "6899c51d-5c79-4d06-a058-01ade66e155a",
   "metadata": {},
   "outputs": [],
   "source": [
    "stations = utils.get_stations()\n",
    "stations = stations[stations['place_type'] != '14'] .reset_index(drop=True)\n",
    "#exclude electric stations, which are frequently very close to normal stations \n",
    "stations ['row'] = 0\n",
    "stations ['col'] = 0\n",
    "config = json.load(open('../config.json'))\n",
    "bounding_rectangle = [[min(stations['lat']),max(stations['lat']) + config['bounding_frame_eps']], \n",
    "                      [min(stations['lng']),max(stations['lng'])  + config['bounding_frame_eps']]]\n",
    "widths = [dimension[1] - dimension[0] for dimension in bounding_rectangle]\n",
    "number_of_divisions = config['number_of_divisions']\n",
    "for col in range(number_of_divisions): \n",
    "    for row in range(number_of_divisions): \n",
    "        station_in_rectangle = (stations['lat']>= (row)*widths[0]/number_of_divisions + bounding_rectangle[0][0]) &\\\n",
    "        (stations['lat']< (row+1)*widths[0]/number_of_divisions + bounding_rectangle[0][0]) &\\\n",
    "        (stations['lng']>= (col)*widths[1]/number_of_divisions + bounding_rectangle[1][0]) &\\\n",
    "        (stations['lng']< (col+1)*widths[1]/number_of_divisions + bounding_rectangle[1][0])\n",
    "        if sum(station_in_rectangle) >1:\n",
    "            raise(Exception(\"More than 1 station\"))   \n",
    "        if sum(station_in_rectangle) ==1:\n",
    "            stations.loc[station_in_rectangle, [\"row\", \"col\"]] = [number_of_divisions - row - 1, col]"
   ]
  },
  {
   "cell_type": "code",
   "execution_count": 4,
   "id": "ce61561b-79e8-4cb4-bd5f-8747fc544962",
   "metadata": {},
   "outputs": [],
   "source": [
    "for _ in range(3): #downsampling 3 times\n",
    "    stations[[\"row\", \"col\"]]=stations[[\"row\", \"col\"]]//2\n",
    "    while not stations[[\"row\", \"col\"]].duplicated().any():\n",
    "        stations[[\"row\", \"col\"]] += stations[[\"row\", \"col\"]].groupby([\"row\", \"col\"]).cumcount()\n",
    "stations = stations.reset_index()"
   ]
  },
  {
   "cell_type": "code",
   "execution_count": 5,
   "id": "fc7fef2a-d374-4151-821f-406c96c32c51",
   "metadata": {},
   "outputs": [
    {
     "data": {
      "text/html": [
       "<div>\n",
       "<style scoped>\n",
       "    .dataframe tbody tr th:only-of-type {\n",
       "        vertical-align: middle;\n",
       "    }\n",
       "\n",
       "    .dataframe tbody tr th {\n",
       "        vertical-align: top;\n",
       "    }\n",
       "\n",
       "    .dataframe thead th {\n",
       "        text-align: right;\n",
       "    }\n",
       "</style>\n",
       "<table border=\"1\" class=\"dataframe\">\n",
       "  <thead>\n",
       "    <tr style=\"text-align: right;\">\n",
       "      <th></th>\n",
       "      <th>date</th>\n",
       "      <th>station_id</th>\n",
       "      <th>bike_count</th>\n",
       "      <th>just_returned</th>\n",
       "      <th>just_rented</th>\n",
       "      <th>index</th>\n",
       "      <th>uid</th>\n",
       "      <th>lat</th>\n",
       "      <th>lng</th>\n",
       "      <th>name</th>\n",
       "      <th>bike_racks</th>\n",
       "      <th>place_type</th>\n",
       "      <th>row</th>\n",
       "      <th>col</th>\n",
       "    </tr>\n",
       "  </thead>\n",
       "  <tbody>\n",
       "    <tr>\n",
       "      <th>0</th>\n",
       "      <td>2022-05-08 18:54:00</td>\n",
       "      <td>448565</td>\n",
       "      <td>5</td>\n",
       "      <td>5</td>\n",
       "      <td>0.0</td>\n",
       "      <td>306</td>\n",
       "      <td>448565</td>\n",
       "      <td>52.183992</td>\n",
       "      <td>21.009840</td>\n",
       "      <td>Nestle House</td>\n",
       "      <td>15</td>\n",
       "      <td>0</td>\n",
       "      <td>27</td>\n",
       "      <td>21</td>\n",
       "    </tr>\n",
       "    <tr>\n",
       "      <th>1</th>\n",
       "      <td>2022-05-08 19:54:00</td>\n",
       "      <td>448565</td>\n",
       "      <td>5</td>\n",
       "      <td>3</td>\n",
       "      <td>3.0</td>\n",
       "      <td>306</td>\n",
       "      <td>448565</td>\n",
       "      <td>52.183992</td>\n",
       "      <td>21.009840</td>\n",
       "      <td>Nestle House</td>\n",
       "      <td>15</td>\n",
       "      <td>0</td>\n",
       "      <td>27</td>\n",
       "      <td>21</td>\n",
       "    </tr>\n",
       "    <tr>\n",
       "      <th>2</th>\n",
       "      <td>2022-05-08 20:54:00</td>\n",
       "      <td>448565</td>\n",
       "      <td>5</td>\n",
       "      <td>1</td>\n",
       "      <td>1.0</td>\n",
       "      <td>306</td>\n",
       "      <td>448565</td>\n",
       "      <td>52.183992</td>\n",
       "      <td>21.009840</td>\n",
       "      <td>Nestle House</td>\n",
       "      <td>15</td>\n",
       "      <td>0</td>\n",
       "      <td>27</td>\n",
       "      <td>21</td>\n",
       "    </tr>\n",
       "    <tr>\n",
       "      <th>3</th>\n",
       "      <td>2022-05-08 21:54:00</td>\n",
       "      <td>448565</td>\n",
       "      <td>6</td>\n",
       "      <td>1</td>\n",
       "      <td>0.0</td>\n",
       "      <td>306</td>\n",
       "      <td>448565</td>\n",
       "      <td>52.183992</td>\n",
       "      <td>21.009840</td>\n",
       "      <td>Nestle House</td>\n",
       "      <td>15</td>\n",
       "      <td>0</td>\n",
       "      <td>27</td>\n",
       "      <td>21</td>\n",
       "    </tr>\n",
       "    <tr>\n",
       "      <th>4</th>\n",
       "      <td>2022-05-08 22:54:00</td>\n",
       "      <td>448565</td>\n",
       "      <td>6</td>\n",
       "      <td>0</td>\n",
       "      <td>0.0</td>\n",
       "      <td>306</td>\n",
       "      <td>448565</td>\n",
       "      <td>52.183992</td>\n",
       "      <td>21.009840</td>\n",
       "      <td>Nestle House</td>\n",
       "      <td>15</td>\n",
       "      <td>0</td>\n",
       "      <td>27</td>\n",
       "      <td>21</td>\n",
       "    </tr>\n",
       "    <tr>\n",
       "      <th>...</th>\n",
       "      <td>...</td>\n",
       "      <td>...</td>\n",
       "      <td>...</td>\n",
       "      <td>...</td>\n",
       "      <td>...</td>\n",
       "      <td>...</td>\n",
       "      <td>...</td>\n",
       "      <td>...</td>\n",
       "      <td>...</td>\n",
       "      <td>...</td>\n",
       "      <td>...</td>\n",
       "      <td>...</td>\n",
       "      <td>...</td>\n",
       "      <td>...</td>\n",
       "    </tr>\n",
       "    <tr>\n",
       "      <th>222376</th>\n",
       "      <td>2022-06-05 05:54:00</td>\n",
       "      <td>8746360</td>\n",
       "      <td>1</td>\n",
       "      <td>1</td>\n",
       "      <td>1.0</td>\n",
       "      <td>328</td>\n",
       "      <td>8746360</td>\n",
       "      <td>52.181135</td>\n",
       "      <td>20.992429</td>\n",
       "      <td>Marynarska 12</td>\n",
       "      <td>20</td>\n",
       "      <td>0</td>\n",
       "      <td>27</td>\n",
       "      <td>18</td>\n",
       "    </tr>\n",
       "    <tr>\n",
       "      <th>222377</th>\n",
       "      <td>2022-06-05 06:54:00</td>\n",
       "      <td>8746360</td>\n",
       "      <td>1</td>\n",
       "      <td>0</td>\n",
       "      <td>0.0</td>\n",
       "      <td>328</td>\n",
       "      <td>8746360</td>\n",
       "      <td>52.181135</td>\n",
       "      <td>20.992429</td>\n",
       "      <td>Marynarska 12</td>\n",
       "      <td>20</td>\n",
       "      <td>0</td>\n",
       "      <td>27</td>\n",
       "      <td>18</td>\n",
       "    </tr>\n",
       "    <tr>\n",
       "      <th>222378</th>\n",
       "      <td>2022-06-05 07:54:00</td>\n",
       "      <td>8746360</td>\n",
       "      <td>1</td>\n",
       "      <td>0</td>\n",
       "      <td>0.0</td>\n",
       "      <td>328</td>\n",
       "      <td>8746360</td>\n",
       "      <td>52.181135</td>\n",
       "      <td>20.992429</td>\n",
       "      <td>Marynarska 12</td>\n",
       "      <td>20</td>\n",
       "      <td>0</td>\n",
       "      <td>27</td>\n",
       "      <td>18</td>\n",
       "    </tr>\n",
       "    <tr>\n",
       "      <th>222379</th>\n",
       "      <td>2022-06-05 08:54:00</td>\n",
       "      <td>8746360</td>\n",
       "      <td>1</td>\n",
       "      <td>1</td>\n",
       "      <td>1.0</td>\n",
       "      <td>328</td>\n",
       "      <td>8746360</td>\n",
       "      <td>52.181135</td>\n",
       "      <td>20.992429</td>\n",
       "      <td>Marynarska 12</td>\n",
       "      <td>20</td>\n",
       "      <td>0</td>\n",
       "      <td>27</td>\n",
       "      <td>18</td>\n",
       "    </tr>\n",
       "    <tr>\n",
       "      <th>222380</th>\n",
       "      <td>2022-06-05 11:54:00</td>\n",
       "      <td>8746360</td>\n",
       "      <td>2</td>\n",
       "      <td>2</td>\n",
       "      <td>1.0</td>\n",
       "      <td>328</td>\n",
       "      <td>8746360</td>\n",
       "      <td>52.181135</td>\n",
       "      <td>20.992429</td>\n",
       "      <td>Marynarska 12</td>\n",
       "      <td>20</td>\n",
       "      <td>0</td>\n",
       "      <td>27</td>\n",
       "      <td>18</td>\n",
       "    </tr>\n",
       "  </tbody>\n",
       "</table>\n",
       "<p>222381 rows × 14 columns</p>\n",
       "</div>"
      ],
      "text/plain": [
       "                      date  station_id  bike_count  just_returned  \\\n",
       "0      2022-05-08 18:54:00      448565           5              5   \n",
       "1      2022-05-08 19:54:00      448565           5              3   \n",
       "2      2022-05-08 20:54:00      448565           5              1   \n",
       "3      2022-05-08 21:54:00      448565           6              1   \n",
       "4      2022-05-08 22:54:00      448565           6              0   \n",
       "...                    ...         ...         ...            ...   \n",
       "222376 2022-06-05 05:54:00     8746360           1              1   \n",
       "222377 2022-06-05 06:54:00     8746360           1              0   \n",
       "222378 2022-06-05 07:54:00     8746360           1              0   \n",
       "222379 2022-06-05 08:54:00     8746360           1              1   \n",
       "222380 2022-06-05 11:54:00     8746360           2              2   \n",
       "\n",
       "        just_rented  index      uid        lat        lng           name  \\\n",
       "0               0.0    306   448565  52.183992  21.009840   Nestle House   \n",
       "1               3.0    306   448565  52.183992  21.009840   Nestle House   \n",
       "2               1.0    306   448565  52.183992  21.009840   Nestle House   \n",
       "3               0.0    306   448565  52.183992  21.009840   Nestle House   \n",
       "4               0.0    306   448565  52.183992  21.009840   Nestle House   \n",
       "...             ...    ...      ...        ...        ...            ...   \n",
       "222376          1.0    328  8746360  52.181135  20.992429  Marynarska 12   \n",
       "222377          0.0    328  8746360  52.181135  20.992429  Marynarska 12   \n",
       "222378          0.0    328  8746360  52.181135  20.992429  Marynarska 12   \n",
       "222379          1.0    328  8746360  52.181135  20.992429  Marynarska 12   \n",
       "222380          1.0    328  8746360  52.181135  20.992429  Marynarska 12   \n",
       "\n",
       "        bike_racks place_type  row  col  \n",
       "0               15          0   27   21  \n",
       "1               15          0   27   21  \n",
       "2               15          0   27   21  \n",
       "3               15          0   27   21  \n",
       "4               15          0   27   21  \n",
       "...            ...        ...  ...  ...  \n",
       "222376          20          0   27   18  \n",
       "222377          20          0   27   18  \n",
       "222378          20          0   27   18  \n",
       "222379          20          0   27   18  \n",
       "222380          20          0   27   18  \n",
       "\n",
       "[222381 rows x 14 columns]"
      ]
     },
     "execution_count": 5,
     "metadata": {},
     "output_type": "execute_result"
    }
   ],
   "source": [
    "bikes = utils.read_bikes()\n",
    "bikes = bikes[bikes[\"date\"].dt.minute == bikes[\"date\"].dt.minute.max()] #downsampling - last obs in given hour\n",
    "grouped = utils.rented_returned_amount(bikes, stations)\n",
    "# del bikes \n",
    "grouped "
   ]
  },
  {
   "cell_type": "code",
   "execution_count": 6,
   "id": "45fb7d10-a3f2-4a68-b215-9d130af2f38d",
   "metadata": {},
   "outputs": [],
   "source": [
    "def date_stats(dt):\n",
    "    dt = pd.to_datetime(dt)\n",
    "    return (dt.hour, dt.weekday(), dt.month)"
   ]
  },
  {
   "cell_type": "code",
   "execution_count": 7,
   "id": "89538137-99c0-4533-aab5-d9fc5bec2287",
   "metadata": {},
   "outputs": [
    {
     "name": "stderr",
     "output_type": "stream",
     "text": [
      "Clipping input data to the valid range for imshow with RGB data ([0..1] for floats or [0..255] for integers).\n"
     ]
    },
    {
     "data": {
      "text/plain": [
       "<matplotlib.image.AxesImage at 0x7f9876182e50>"
      ]
     },
     "execution_count": 7,
     "metadata": {},
     "output_type": "execute_result"
    },
    {
     "data": {
      "image/png": "[encoded data removed]",
      "text/plain": [
       "<Figure size 1440x1440 with 1 Axes>"
      ]
     },
     "metadata": {
      "needs_background": "light"
     },
     "output_type": "display_data"
    }
   ],
   "source": [
    "imgs = {}\n",
    "for dt in grouped['date'].unique(): \n",
    "    img = np.zeros([max(stations['row'])+1, max(stations['col'])+1, 3])\n",
    "    for stats in grouped[grouped['date'] == dt].to_dict('records'):\n",
    "        img[stats['row'], stats['col'], :] = [stats[\"bike_count\"],stats[\"just_returned\"],stats[\"just_rented\"]]\n",
    "    img[0, 0, : ] = date_stats(dt) # encode date in first pixel\n",
    "    imgs[dt] = img/255\n",
    "plt.figure(figsize=(20,20))\n",
    "plt.imshow(list(imgs.values())[3]*10)"
   ]
  },
  {
   "cell_type": "code",
   "execution_count": 8,
   "id": "99078dd2-ac33-4bee-9b7b-d555f0d1c049",
   "metadata": {
    "tags": []
   },
   "outputs": [
    {
     "data": {
      "text/plain": [
       "(434, 39, 39, 3)"
      ]
     },
     "execution_count": 8,
     "metadata": {},
     "output_type": "execute_result"
    }
   ],
   "source": [
    "train, test = [], []\n",
    "for day, image in sorted(imgs.items(), key=lambda x: x[0]):\n",
    "    day = pd.to_datetime(day)\n",
    "    if (day >= datetime.now() - timedelta(days=31)) and (day <= datetime.now() - timedelta(days=10)):\n",
    "        train.append(image)\n",
    "    if (day >= datetime.now() - timedelta(days=10)):\n",
    "        test.append(image)\n",
    "# del imgs\n",
    "train = np.array(train)\n",
    "test = np.array(test)\n",
    "train.shape"
   ]
  },
  {
   "cell_type": "code",
   "execution_count": 9,
   "id": "2a9ca71c-c3f7-498a-a7c0-8292c9c18ee3",
   "metadata": {},
   "outputs": [],
   "source": [
    "def img_to_vect(img):\n",
    "    result = np.zeros(len(stations)*3)\n",
    "    for index, row, col in stations[[\"index\", \"row\", \"col\"]].values.tolist():\n",
    "        result[[3*index, 3*index+1, 3*index+2]] = img[row, col, :]\n",
    "    return result"
   ]
  },
  {
   "cell_type": "code",
   "execution_count": 11,
   "id": "15b47eaa-a80a-418c-8205-8bd187e43127",
   "metadata": {},
   "outputs": [
    {
     "data": {
      "text/plain": [
       "(314, 96, 39, 39, 3)"
      ]
     },
     "execution_count": 11,
     "metadata": {},
     "output_type": "execute_result"
    }
   ],
   "source": [
    "# convert history into inputs and outputs\n",
    "def to_supervised(data, n_input=24*4, n_out=24): \n",
    "    X, y = list(), list()\n",
    "    in_start = 0\n",
    "    # step over the entire history one time step at a time\n",
    "    for _ in range(data.shape[0]):\n",
    "        # define the end of the input sequence\n",
    "        in_end = in_start + n_input\n",
    "        out_end = in_end + n_out\n",
    "        # ensure we have enough data for this instance\n",
    "        if out_end < len(data):\n",
    "            x_input = data[in_start:in_end, :] \n",
    "            X.append(x_input)\n",
    "            y.append(img_to_vect(data[out_end, :]))\n",
    "        # move along one time step\n",
    "        in_start += 1\n",
    "    return np.array(X), np.array(y)\n",
    "X_train, y_train = to_supervised(train) \n",
    "X_train.shape"
   ]
  },
  {
   "cell_type": "code",
   "execution_count": 12,
   "id": "4e3661d2-d889-49fb-9a9e-368b70363c44",
   "metadata": {},
   "outputs": [
    {
     "data": {
      "text/plain": [
       "(314, 1017)"
      ]
     },
     "execution_count": 12,
     "metadata": {},
     "output_type": "execute_result"
    }
   ],
   "source": [
    "y_train.shape"
   ]
  },
  {
   "cell_type": "code",
   "execution_count": 13,
   "id": "0c5ab818-0737-4b03-82ec-0e42758a6c6f",
   "metadata": {},
   "outputs": [],
   "source": [
    "X_train = np.nan_to_num(X_train, copy=True, nan=0.0, posinf=0.0, neginf=0.0)\n",
    "y_train = np.nan_to_num(y_train, copy=True, nan=0.0, posinf=0.0, neginf=0.0)"
   ]
  },
  {
   "cell_type": "code",
   "execution_count": 15,
   "id": "f4e2ad00-ef9a-4ee8-a044-ecc63c0fd2ae",
   "metadata": {},
   "outputs": [
    {
     "name": "stdout",
     "output_type": "stream",
     "text": [
      "Epoch 1/5\n",
      "20/20 [==============================] - 321s 16s/step - loss: 7.3317e-04\n",
      "Epoch 2/5\n",
      "20/20 [==============================] - 308s 15s/step - loss: 4.8915e-04\n",
      "Epoch 3/5\n",
      "20/20 [==============================] - 307s 15s/step - loss: 4.7446e-04\n",
      "Epoch 4/5\n",
      "20/20 [==============================] - 305s 15s/step - loss: 4.7185e-04\n",
      "Epoch 5/5\n",
      "20/20 [==============================] - 329s 16s/step - loss: 4.7094e-04\n"
     ]
    },
    {
     "data": {
      "text/plain": [
       "<keras.callbacks.History at 0x7f98756c2190>"
      ]
     },
     "execution_count": 15,
     "metadata": {},
     "output_type": "execute_result"
    }
   ],
   "source": [
    "verbose, epochs, batch_size = 1, 5, 16     \n",
    "model = Sequential()\n",
    "model.add(ConvLSTM2D(filters=12, \n",
    "                     kernel_size=(4,4),  \n",
    "                     activation='relu', \n",
    "                     input_shape=X_train.shape[1:]))\n",
    "model.add(Flatten())\n",
    "model.add(RepeatVector(1))\n",
    "model.add(LSTM(y_train.shape[-1]*2, activation='relu', return_sequences=True))\n",
    "model.add(TimeDistributed(Dense(y_train.shape[-1]*2, activation='relu')))\n",
    "model.add(TimeDistributed(Dense(y_train.shape[-1], activation='relu')))\n",
    "model.compile(loss='mse', optimizer='adam')\n",
    "# fit network\n",
    "model.fit(X_train, y_train, epochs=epochs, batch_size=batch_size, verbose=verbose)"
   ]
  },
  {
   "cell_type": "code",
   "execution_count": 16,
   "id": "c7acc46e-df2f-4d0a-94c0-8aa07384f0a6",
   "metadata": {},
   "outputs": [
    {
     "data": {
      "text/plain": [
       "(120, 96, 39, 39, 3)"
      ]
     },
     "execution_count": 16,
     "metadata": {},
     "output_type": "execute_result"
    }
   ],
   "source": [
    "X_test, y_test = to_supervised(test)\n",
    "X_test.shape"
   ]
  },
  {
   "cell_type": "code",
   "execution_count": 17,
   "id": "243ba863-1aaf-4223-911b-28acfea13b6a",
   "metadata": {},
   "outputs": [
    {
     "name": "stdout",
     "output_type": "stream",
     "text": [
      "4/4 [==============================] - 6s 1s/step\n"
     ]
    }
   ],
   "source": [
    "y_pred = model.predict(X_test)"
   ]
  },
  {
   "cell_type": "code",
   "execution_count": 18,
   "id": "dfe5f407-ab24-42d2-ad07-a00c043c6e0f",
   "metadata": {},
   "outputs": [
    {
     "data": {
      "text/plain": [
       "((120, 1017), (120, 1, 1017))"
      ]
     },
     "execution_count": 18,
     "metadata": {},
     "output_type": "execute_result"
    }
   ],
   "source": [
    "y_test.shape, y_pred.shape"
   ]
  },
  {
   "cell_type": "code",
   "execution_count": 19,
   "id": "ce710b84-77d9-4272-a66b-56017442bb3f",
   "metadata": {},
   "outputs": [],
   "source": [
    "y_test=y_test.reshape((y_test.shape[0], y_test.shape[1]//3, 3))*255\n",
    "y_pred=y_pred.reshape((y_pred.shape[0], y_pred.shape[2]//3, 3))*255"
   ]
  },
  {
   "cell_type": "code",
   "execution_count": 20,
   "id": "1b1ec1dd-419d-4701-a86b-9092043da186",
   "metadata": {},
   "outputs": [
    {
     "name": "stdout",
     "output_type": "stream",
     "text": [
      "MSE bike count:  91.88374494643311\n",
      "MSE just returned count:  8.77624869776807\n",
      "MSE just rented count:  8.7295051746286\n"
     ]
    }
   ],
   "source": [
    "print(\"MSE bike count: \", mean_squared_error(y_test[:,:, 0], y_pred[:,:, 0]))\n",
    "print(\"MSE just returned count: \", mean_squared_error(y_test[:,:, 1], y_pred[:,:, 1]))\n",
    "print(\"MSE just rented count: \", mean_squared_error(y_test[:,:, 2], y_pred[:,:, 2]))"
   ]
  },
  {
   "cell_type": "code",
   "execution_count": 30,
   "id": "0d0a3892-c707-49fc-8ed9-4f0857169ea5",
   "metadata": {},
   "outputs": [
    {
     "data": {
      "text/plain": [
       "array([ 22,  17, 146])"
      ]
     },
     "execution_count": 30,
     "metadata": {},
     "output_type": "execute_result"
    }
   ],
   "source": [
    "p = stations[stations['name']=='Stefana Banacha - UW'][[\"row\", \"col\", \"index\"]].values.reshape(-1)\n",
    "p"
   ]
  },
  {
   "cell_type": "code",
   "execution_count": 31,
   "id": "8047245d-b4b9-41e3-b831-359b797206bb",
   "metadata": {},
   "outputs": [
    {
     "data": {
      "text/plain": [
       "[<matplotlib.lines.Line2D at 0x7f98603c6f50>]"
      ]
     },
     "execution_count": 31,
     "metadata": {},
     "output_type": "execute_result"
    },
    {
     "data": {
      "image/png": "[encoded data removed]",
      "text/plain": [
       "<Figure size 1440x1440 with 1 Axes>"
      ]
     },
     "metadata": {
      "needs_background": "light"
     },
     "output_type": "display_data"
    }
   ],
   "source": [
    "plt.figure(figsize=(20, 20))\n",
    "plt.plot(y_test[:, p[2], 0], c='red')\n",
    "plt.plot(y_pred[:, p[2], 0], c='blue')"
   ]
  },
  {
   "cell_type": "code",
   "execution_count": 27,
   "id": "32967a20-b995-447b-ad55-d3dfda5fa687",
   "metadata": {},
   "outputs": [
    {
     "data": {
      "text/plain": [
       "array(['Dewajtis - UKSW', 'Metro Młociny', 'Marymoncka - Dewajtis',\n",
       "       'Metro Wawrzyszew', 'Górskiego - Szpitalna', 'Metro Stare Bielany',\n",
       "       'Bielany-Ratusz', 'Metro Słodowiec', 'Potocka – OSiR Żoliborz',\n",
       "       'Gwiaździsta - Promyka', 'al. Reymonta - Conrada',\n",
       "       'Broniewskiego - Perzyńskiego', 'Metro Marymont',\n",
       "       'Metro Plac Wilsona', 'Broniewskiego - Włościańska',\n",
       "       'Broniewskiego - Krasińskiego', 'Wybrzeże Gdyńskie - KS Spójnia',\n",
       "       'Plac Grunwaldzki', 'Zajączka - Bitwy Pod Rokitną',\n",
       "       'Plac Inwalidów', 'Pętla Stare Bemowo', 'Pętla Nowe Bemowo',\n",
       "       'Obrońców Tobruku - Pieniążka', 'Powązkowska - Krasińskiego',\n",
       "       'Powązkowska - Plac Niemena', 'Przasnyska - Rydygiera',\n",
       "       'Powązkowska - Burakowska', 'Metro Dworzec Gdański',\n",
       "       'Powstańców Śląskich - Radiowa', 'Obozowa - Ciołka',\n",
       "       'al. Prymasa Tysiąclecia - Kasprzaka', 'Obozowa - Radziwie',\n",
       "       'al. Jana Pawła II - Stawki', 'Stawki - Dubois',\n",
       "       'Andersa - Muranowska', 'Sanguszki - Wybrzeże Gdańskie',\n",
       "       'Wrocławska – Bailly', 'Okopowa - Anielewicza', 'Smocza - Miła',\n",
       "       'Smocza - Anielewicza', 'al. Jana Pawła II - Anielewicza',\n",
       "       'Anielewicza - Zamenhofa', 'Anielewicza - Andersa',\n",
       "       'Bonifraterska - Franciszkańska', 'Plac Krasińskich',\n",
       "       'Kościelna - Piesza', \"Bora-Komorowskiego - Fieldorfa 'Nila'\",\n",
       "       'Metro Bemowo', 'Okocimska - Olbrachta',\n",
       "       'Dworzec Wschodni - Lubelska', 'Leszno - Młynarska',\n",
       "       'Dzielna - Bellottiego', 'Wolność - Bellottiego',\n",
       "       'Smocza - Nowolipki', 'al. Jana Pawła II - Nowolipki',\n",
       "       'Powstańców Śląskich - Człuchowska',\n",
       "       'Jana Olbrachta - Antka Rozpylacza', 'Wola-Ratusz',\n",
       "       'al. Jana Pawła II - al. Solidarności',\n",
       "       'Plac Bankowy - Kino Muranów', 'Andersa - Długa',\n",
       "       'Marszałkowska - al. Solidarności', 'Plac Bankowy - Ratusz',\n",
       "       'Senatorska - Bielańska', 'Miodowa',\n",
       "       'Krakowskie Przedmieście - Trębacka', 'Mariensztat',\n",
       "       'Powstańców Śląskich - Połczyńska', 'Jana Kazimierza - Gizów',\n",
       "       'al. Reymonta - Broniewskiego',\n",
       "       'al. Prymasa Tysiąclecia - Górczewska', 'Wolska - Płocka',\n",
       "       'Kasprzaka - Skierniewicka', 'Kasprzaka - Karolkowa',\n",
       "       'Muzeum Powstania Warszawskiego', 'Metro Rondo Daszyńskiego',\n",
       "       'Prosta - Wronia', 'Żelazna - Chłodna', 'Żelazna - Grzybowska',\n",
       "       'al. Jana Pawła II - Plac Mirowski',\n",
       "       'al. Jana Pawła II - Grzybowska', 'Rondo ONZ', 'Ptasia - Zimna',\n",
       "       'Emilii Plater - Świętokrzyska', 'Plac Grzybowski',\n",
       "       'Marszałkowska - Królewska', 'Marszałkowska - Zielna',\n",
       "       'Metro Świętokrzyska', 'Plac Małachowskiego',\n",
       "       'Plac Powstańców Warszawy', 'Metro Nowy Świat - Uniwersytet',\n",
       "       'Oboźna - Kopernika', 'Lipowa - Dobra', 'Centrum Nauki Kopernik',\n",
       "       'Kolejowa', 'Żelazna - Sienna', 'al. Jana Pawła II - Złota',\n",
       "       'Emilii Plater - Złota', 'Marszałkowska - Złota',\n",
       "       'al. Jerozolimskie - Krucza', 'Nowy Świat - Warecka',\n",
       "       'Gałczyńskiego - Foksal', 'Topiel - Tamka', 'Solec - Jaracza',\n",
       "       'al. Jerozolimskie - Niemcewicza', 'Ochota-Ratusz', 'Plac Zawiszy',\n",
       "       'al. Jerozolimskie - Lindleya', 'Lindleya - szpital',\n",
       "       'Park Kultury w Powsinie', 'Oczki - WUM',\n",
       "       'al. Jerozolimskie - Emilii Plater',\n",
       "       'Emilii Plater - al. Jerozolimskie', 'Emilii Plater - Wspólna',\n",
       "       'Metro Centrum', 'Marszałkowska - Al. Jerozolimskie',\n",
       "       'al. Jerozolimskie - rejon Rotundy', 'Marszałkowska - Hoża',\n",
       "       'Krucza - Wspólna', \"Rondo de Gaulle'a\", 'Plac Trzech Krzyży',\n",
       "       'Smolna - PKP Powiśle', 'Kruczkowskiego – PKP Powiśle',\n",
       "       'Solec - al. 3 Maja', 'Książęca - Rozbrat', 'Szczęśliwicka - APS',\n",
       "       'Kopińska - Białobrzeska', 'Plac Narutowicza',\n",
       "       'Raszyńska - Wawelska', 'Raszyńska - Filtrowa',\n",
       "       'al. Niepodległości - Nowowiejska',\n",
       "       'al. Armii Ludowej – al. Niepodległości',\n",
       "       'Noakowskiego - Koszykowa', 'Plac Politechniki',\n",
       "       'Poznańska - Zespół Szkół Gastronomicznych',\n",
       "       'Rondo Jazdy Polskiej', 'Metro Politechnika – Nowowiejska',\n",
       "       'Plac Zbawiciela', 'Plac Konstytucji', 'Mokotowska - Piękna',\n",
       "       'Plac Na Rozdrożu', 'Matejki - Wiejska', 'Myśliwiecka - Rozbrat',\n",
       "       'Port Czerniakowski', 'Grójecka - Bitwy Warszawskiej 1920 roku',\n",
       "       'Pasteura - Winnicka - UW', 'Stefana Banacha - UW',\n",
       "       'Biblioteka Narodowa', 'Marszałkowska - Litewska',\n",
       "       'Pętla Szczęśliwice', 'Dickensa - Geodetów',\n",
       "       'Żwirki i Wigury - Księcia Trojdena', 'Rakowiecka - Św. A. Boboli',\n",
       "       'al. Niepodległości - Batorego', 'Plac Unii Lubelskiej',\n",
       "       'Grójecka - PKP Rakowiec', 'Sanocka - Pruszkowska',\n",
       "       'Żwirki i Wigury - Racławicka', 'Wołoska - Kulskiego',\n",
       "       'Madalińskiego - Kazimierzowska', 'Puławska - Dworkowa',\n",
       "       'Belwederska - Gagarina', 'Czerniakowska - Gagarina',\n",
       "       'Etiudy Rewolucyjnej - Miączyńska', 'Metro Racławicka',\n",
       "       'Puławska - Dolna', 'Sobieskiego - Chełmska',\n",
       "       'Czerniakowska - ZUS', 'PKP Ursus-Niedźwiadek', 'PKP Ursus',\n",
       "       'Sosnkowskiego - OSiR Ursus', 'Ursus-Ratusz',\n",
       "       'Skoroszewska - Prystora', 'Książąt Mazowieckich - Heroldów',\n",
       "       'PKP Włochy', 'al. Jerozolimskie - Popularna', 'Włochy-Ratusz',\n",
       "       '1 Sierpnia - DK Włochy', 'Metro Wierzbno',\n",
       "       'Puławska - Idzikowskiego', 'Sobieskiego - Mangalia',\n",
       "       'Wołoska - Marynarska', 'Metro Wilanowska', 'Pętla Stegny',\n",
       "       'Sobieskiego - św. Bonifacego', 'Pętla Bokserska',\n",
       "       'Rzymowskiego – Gotarda', 'al. Lotników – Modzelewskiego',\n",
       "       'Metro Służew', 'Wałbrzyska - Wróbla',\n",
       "       'Jana III Sobieskiego - al. Wilanowska',\n",
       "       'al. Wilanowska - Przyczółkowa', 'Vogla - Syta',\n",
       "       'al. Rzeczypospolitej - Klimczaka', 'Metro Kabaty',\n",
       "       'Przyczółkowa - Branickiego', 'Kochanowskiego - Galla Anonima',\n",
       "       'Metro Ursynów I', 'Jastrzębowskiego - SGGW',\n",
       "       'Nowoursynowska - Ciszewskiego', 'Metro Stokłosy',\n",
       "       'Rosoła - Ciszewskiego - SGGW', 'Puławska - Pileckiego',\n",
       "       'Ciszewskiego - Pileckiego', 'Rosoła - Gandhi', 'Metro Imielin',\n",
       "       'Rosoła - Wesoła', 'Pileckiego - Alternatywy',\n",
       "       'Dereniowa - Płaskowickiej', 'Stryjeńskich - Belgradzka',\n",
       "       'Metro Natolin', 'Belgradzka - Rosoła', 'Stryjeńskich - Wąwozowa',\n",
       "       'Ordonówny - Światowida', 'Wąwozowa - Rosoła',\n",
       "       'Skarbka z Gór - Berensona', 'Lazurowa - Sternicza',\n",
       "       'Światowida - Mehoffera', 'Grupy AK Krybar', 'Białołęka-Ratusz',\n",
       "       'Myśliborska - al. Kuklińskiego', 'Modlińska - Żerańska',\n",
       "       'Świderska - Świętosławskiego', 'Pętla Bródno - Podgrodzie',\n",
       "       'Rembielińska - Kondratowicza', 'Targówek-Ratusz',\n",
       "       'Kondratowicza - Chodecka', 'Kondratowicza - Przy Grodzisku',\n",
       "       'Wysockiego - Poborzańska', 'Rembielińska - Wyszogrodzka',\n",
       "       'Chodecka - Żuromińska', 'Wysockiego - Matki Teresy z Kalkuty',\n",
       "       'Blokowa - DK Zacisze', 'Metro Trocka', 'Św. Wincentego – Kołowa',\n",
       "       'Metro Targówek Mieszkaniowy ', 'Radzymińska - Trocka',\n",
       "       'Bukowiecka - Zamkowa', 'Radzymińska - Piotra Skargi',\n",
       "       'Wybrzeże Helskie - ZOO', 'Rondo Starzyńskiego',\n",
       "       'Darwina - Nusbauma-Hilarowicza', 'Namysłowska - Darwina',\n",
       "       'Rondo Żaba', 'Jagiellońska - Plac Hallera',\n",
       "       'Plac Hallera - Sawinkowa', 'Namysłowska - Szymanowskiego',\n",
       "       'Ratuszowa - ZOO', 'Jagiellońska - Ratuszowa',\n",
       "       '11 Listopada - Ratuszowa', 'Park Kępa Potocka',\n",
       "       'Stalowa - 11 Listopada', 'Ostrobramska - Motorowa',\n",
       "       'Floriańska - Park Praski', 'Plac Wileński',\n",
       "       'Wileńska - Rzeszotarskiej', 'al. Prymasa Tysiąclecia - Obozowa',\n",
       "       'Jagiellońska - Okrzei', 'Sierakowskiego - Kłopotowskiego',\n",
       "       'Targowa - Ząbkowska', 'Fabryka Wódek Koneser',\n",
       "       'Radzymińska - Wiosenna', 'Radzymińska - Łomżyńska',\n",
       "       'Pętla Kawęczyńska-Bazylika', 'Targowa - Kijowska',\n",
       "       'Dworzec Wschodni - Kijowska', 'Metro Stadion Narodowy',\n",
       "       'al. Zieleniecka - Teatr Powszechny', 'Grochowska - Mińska',\n",
       "       'Praga-Południe-Ratusz', 'Dwernickiego - Siennicka',\n",
       "       'Stalowa - Czynszowa', 'Wybrzeże Szczecińskie - Stadion Narodowy',\n",
       "       'Rondo Waszyngtona - Stadion Narodowy', 'Waszyngtona - Kinowa',\n",
       "       'Rondo Wiatraczna', 'Francuska - Walecznych',\n",
       "       'Międzynarodowa - Walecznych', 'Plac Szembeka', 'Pętla Gocławek',\n",
       "       'Brukselska - PROM', 'Metro Szwedzka',\n",
       "       'al. Stanów Zjednoczonych - Międzynarodowa',\n",
       "       'Ostrobramska - Zamieniecka', 'Afrykańska - Egipska',\n",
       "       'Bora-Komorowskiego - Umińskiego', 'Fieldorfa - Bukowskiego',\n",
       "       'Rechniewskiego - Nowaka-Jeziorańskiego', 'Meissnera - Fieldorfa',\n",
       "       'Krakowskie Przedmieście - Traugutta',\n",
       "       'Veturilko - Sanguszki - Wybrzeże Gdańskie',\n",
       "       'Veturilko - Kępa Potocka', 'Veturilko - Park Bródnowski',\n",
       "       'Veturilko - Park Praski', 'Veturilko - Pole Mokotowskie',\n",
       "       'Veturilko - Rondo Waszyngtona - Stadion Narodowy',\n",
       "       'Szaserów – Garwolińska', 'Rondo Waszyngtona - Stadion Narodowy 1',\n",
       "       'Marymoncka - Podleśna', 'Bulwar - most Śląsko - Dąbrowski',\n",
       "       'Metro Centrum Nauki Kopernik', 'Wołoska - Odyńca',\n",
       "       'Powstańców Śląskich - Wrocławska', 'Rondo Zesłańców Syberyjskich',\n",
       "       'Wólczyńska – Conrada', 'Nestle House', 'New City', 'Proximo',\n",
       "       'Arkadia', 'Atrium Targówek', 'Blue City', 'Central Park Ursynów',\n",
       "       'Citi', 'Eurocentrum', 'Galeria Bemowo', 'IRIS', 'Poleczki Park',\n",
       "       'Sadyba Best Mall', 'Spektrum Tower', 'The Park Warsaw',\n",
       "       'Warsaw Spire', 'Wola Park', 'Factory Annopol', 'CH Marywilska 44',\n",
       "       'AGORA', 'Platan Park', 'Wiśniowy Business Park', 'Marynarska 12',\n",
       "       'Procter Gamble', 'PRAGA 306', 'Eko - Rowery NFOŚiGW',\n",
       "       'Signum Work Station', 'Galeria Młociny', 'Park Rozwoju',\n",
       "       'Biedronka Modlińska', 'Miasteczko Orange', 'Warsaw UNIT',\n",
       "       'Bolero'], dtype=object)"
      ]
     },
     "execution_count": 27,
     "metadata": {},
     "output_type": "execute_result"
    }
   ],
   "source": [
    "stations[\"name\"].unique()"
   ]
  },
  {
   "cell_type": "code",
   "execution_count": null,
   "id": "d86a3e2b-5d65-40ce-9b2b-f76dafa03eff",
   "metadata": {},
   "outputs": [],
   "source": []
  }
 ],
 "metadata": {
  "environment": {
   "kernel": "python3",
   "name": "tf2-gpu.2-9.m93",
   "type": "gcloud",
   "uri": "gcr.io/deeplearning-platform-release/tf2-gpu.2-9:m93"
  },
  "kernelspec": {
   "display_name": "Python 3",
   "language": "python",
   "name": "python3"
  },
  "language_info": {
   "codemirror_mode": {
    "name": "ipython",
    "version": 3
   },
   "file_extension": ".py",
   "mimetype": "text/x-python",
   "name": "python",
   "nbconvert_exporter": "python",
   "pygments_lexer": "ipython3",
   "version": "3.7.12"
  }
 },
 "nbformat": 4,
 "nbformat_minor": 5
}
