{
 "cells": [
  {
   "cell_type": "code",
   "execution_count": 1,
   "metadata": {},
   "outputs": [],
   "source": [
    "%config Completer.use_jedi = False"
   ]
  },
  {
   "cell_type": "code",
   "execution_count": 2,
   "metadata": {},
   "outputs": [],
   "source": [
    "import os\n",
    "import shutil\n",
    "import geopandas as gpd\n",
    "import contextily as cx\n",
    "import pandas as pd\n",
    "import imageio\n",
    "import matplotlib.pyplot as plt\n",
    "import numpy as np\n",
    "from datetime import datetime, timedelta"
   ]
  },
  {
   "cell_type": "code",
   "execution_count": 3,
   "metadata": {},
   "outputs": [
    {
     "data": {
      "text/html": [
       "<div>\n",
       "<style scoped>\n",
       "    .dataframe tbody tr th:only-of-type {\n",
       "        vertical-align: middle;\n",
       "    }\n",
       "\n",
       "    .dataframe tbody tr th {\n",
       "        vertical-align: top;\n",
       "    }\n",
       "\n",
       "    .dataframe thead th {\n",
       "        text-align: right;\n",
       "    }\n",
       "</style>\n",
       "<table border=\"1\" class=\"dataframe\">\n",
       "  <thead>\n",
       "    <tr style=\"text-align: right;\">\n",
       "      <th></th>\n",
       "      <th>uid</th>\n",
       "      <th>lat</th>\n",
       "      <th>lng</th>\n",
       "      <th>name</th>\n",
       "      <th>station_id</th>\n",
       "      <th>bike_racks</th>\n",
       "      <th>geometry</th>\n",
       "    </tr>\n",
       "  </thead>\n",
       "  <tbody>\n",
       "    <tr>\n",
       "      <th>0</th>\n",
       "      <td>2585259</td>\n",
       "      <td>52.296298</td>\n",
       "      <td>20.958358</td>\n",
       "      <td>Dewajtis - UKSW</td>\n",
       "      <td>9402</td>\n",
       "      <td>30</td>\n",
       "      <td>POINT (20.95836 52.29630)</td>\n",
       "    </tr>\n",
       "    <tr>\n",
       "      <th>1</th>\n",
       "      <td>2585263</td>\n",
       "      <td>52.290974</td>\n",
       "      <td>20.929556</td>\n",
       "      <td>Metro Młociny</td>\n",
       "      <td>9403</td>\n",
       "      <td>30</td>\n",
       "      <td>POINT (20.92956 52.29097)</td>\n",
       "    </tr>\n",
       "    <tr>\n",
       "      <th>2</th>\n",
       "      <td>2585265</td>\n",
       "      <td>52.290173</td>\n",
       "      <td>20.950370</td>\n",
       "      <td>Marymoncka - Dewajtis</td>\n",
       "      <td>9404</td>\n",
       "      <td>30</td>\n",
       "      <td>POINT (20.95037 52.29017)</td>\n",
       "    </tr>\n",
       "    <tr>\n",
       "      <th>3</th>\n",
       "      <td>2585267</td>\n",
       "      <td>52.285914</td>\n",
       "      <td>20.940561</td>\n",
       "      <td>Metro Wawrzyszew</td>\n",
       "      <td>9405</td>\n",
       "      <td>20</td>\n",
       "      <td>POINT (20.94056 52.28591)</td>\n",
       "    </tr>\n",
       "    <tr>\n",
       "      <th>4</th>\n",
       "      <td>2585269</td>\n",
       "      <td>52.233614</td>\n",
       "      <td>21.014635</td>\n",
       "      <td>Górskiego - Szpitalna</td>\n",
       "      <td>9406</td>\n",
       "      <td>16</td>\n",
       "      <td>POINT (21.01463 52.23361)</td>\n",
       "    </tr>\n",
       "    <tr>\n",
       "      <th>...</th>\n",
       "      <td>...</td>\n",
       "      <td>...</td>\n",
       "      <td>...</td>\n",
       "      <td>...</td>\n",
       "      <td>...</td>\n",
       "      <td>...</td>\n",
       "      <td>...</td>\n",
       "    </tr>\n",
       "    <tr>\n",
       "      <th>309</th>\n",
       "      <td>4393742</td>\n",
       "      <td>52.239409</td>\n",
       "      <td>21.031010</td>\n",
       "      <td>Metro Centrum Nauki Kopernik</td>\n",
       "      <td>9700</td>\n",
       "      <td>30</td>\n",
       "      <td>POINT (21.03101 52.23941)</td>\n",
       "    </tr>\n",
       "    <tr>\n",
       "      <th>310</th>\n",
       "      <td>4585378</td>\n",
       "      <td>52.195747</td>\n",
       "      <td>21.002554</td>\n",
       "      <td>Wołoska - Odyńca</td>\n",
       "      <td>9401</td>\n",
       "      <td>16</td>\n",
       "      <td>POINT (21.00255 52.19575)</td>\n",
       "    </tr>\n",
       "    <tr>\n",
       "      <th>311</th>\n",
       "      <td>44581598</td>\n",
       "      <td>52.257631</td>\n",
       "      <td>20.919310</td>\n",
       "      <td>Powstańców Śląskich - Wrocławska</td>\n",
       "      <td>9642</td>\n",
       "      <td>16</td>\n",
       "      <td>POINT (20.91931 52.25763)</td>\n",
       "    </tr>\n",
       "    <tr>\n",
       "      <th>312</th>\n",
       "      <td>44583449</td>\n",
       "      <td>52.215663</td>\n",
       "      <td>20.960307</td>\n",
       "      <td>Rondo Zesłańców Syberyjskich</td>\n",
       "      <td>9587</td>\n",
       "      <td>26</td>\n",
       "      <td>POINT (20.96031 52.21566)</td>\n",
       "    </tr>\n",
       "    <tr>\n",
       "      <th>313</th>\n",
       "      <td>44583483</td>\n",
       "      <td>52.281063</td>\n",
       "      <td>20.923405</td>\n",
       "      <td>Wólczyńska – Conrada</td>\n",
       "      <td>9408</td>\n",
       "      <td>22</td>\n",
       "      <td>POINT (20.92340 52.28106)</td>\n",
       "    </tr>\n",
       "  </tbody>\n",
       "</table>\n",
       "<p>314 rows × 7 columns</p>\n",
       "</div>"
      ],
      "text/plain": [
       "          uid        lat        lng                              name  \\\n",
       "0     2585259  52.296298  20.958358                   Dewajtis - UKSW   \n",
       "1     2585263  52.290974  20.929556                     Metro Młociny   \n",
       "2     2585265  52.290173  20.950370             Marymoncka - Dewajtis   \n",
       "3     2585267  52.285914  20.940561                  Metro Wawrzyszew   \n",
       "4     2585269  52.233614  21.014635             Górskiego - Szpitalna   \n",
       "..        ...        ...        ...                               ...   \n",
       "309   4393742  52.239409  21.031010      Metro Centrum Nauki Kopernik   \n",
       "310   4585378  52.195747  21.002554                  Wołoska - Odyńca   \n",
       "311  44581598  52.257631  20.919310  Powstańców Śląskich - Wrocławska   \n",
       "312  44583449  52.215663  20.960307      Rondo Zesłańców Syberyjskich   \n",
       "313  44583483  52.281063  20.923405              Wólczyńska – Conrada   \n",
       "\n",
       "     station_id  bike_racks                   geometry  \n",
       "0          9402          30  POINT (20.95836 52.29630)  \n",
       "1          9403          30  POINT (20.92956 52.29097)  \n",
       "2          9404          30  POINT (20.95037 52.29017)  \n",
       "3          9405          20  POINT (20.94056 52.28591)  \n",
       "4          9406          16  POINT (21.01463 52.23361)  \n",
       "..          ...         ...                        ...  \n",
       "309        9700          30  POINT (21.03101 52.23941)  \n",
       "310        9401          16  POINT (21.00255 52.19575)  \n",
       "311        9642          16  POINT (20.91931 52.25763)  \n",
       "312        9587          26  POINT (20.96031 52.21566)  \n",
       "313        9408          22  POINT (20.92340 52.28106)  \n",
       "\n",
       "[314 rows x 7 columns]"
      ]
     },
     "execution_count": 3,
     "metadata": {},
     "output_type": "execute_result"
    }
   ],
   "source": [
    "stations = pd.read_csv(\"stations.csv\")\n",
    "stations = gpd.GeoDataFrame(stations, geometry=gpd.points_from_xy(stations.lng, stations.lat), crs='EPSG:4326')\n",
    "stations"
   ]
  },
  {
   "cell_type": "code",
   "execution_count": 8,
   "metadata": {},
   "outputs": [
    {
     "data": {
      "text/html": [
       "<div>\n",
       "<style scoped>\n",
       "    .dataframe tbody tr th:only-of-type {\n",
       "        vertical-align: middle;\n",
       "    }\n",
       "\n",
       "    .dataframe tbody tr th {\n",
       "        vertical-align: top;\n",
       "    }\n",
       "\n",
       "    .dataframe thead th {\n",
       "        text-align: right;\n",
       "    }\n",
       "</style>\n",
       "<table border=\"1\" class=\"dataframe\">\n",
       "  <thead>\n",
       "    <tr style=\"text-align: right;\">\n",
       "      <th></th>\n",
       "      <th>bike_id</th>\n",
       "      <th>station_id</th>\n",
       "      <th>shot</th>\n",
       "      <th>date</th>\n",
       "      <th>state</th>\n",
       "    </tr>\n",
       "  </thead>\n",
       "  <tbody>\n",
       "    <tr>\n",
       "      <th>0</th>\n",
       "      <td>24093</td>\n",
       "      <td>9705</td>\n",
       "      <td>0</td>\n",
       "      <td>2021-11-15</td>\n",
       "      <td>first</td>\n",
       "    </tr>\n",
       "    <tr>\n",
       "      <th>1</th>\n",
       "      <td>24093</td>\n",
       "      <td>9705</td>\n",
       "      <td>739</td>\n",
       "      <td>2021-11-14</td>\n",
       "      <td>last</td>\n",
       "    </tr>\n",
       "    <tr>\n",
       "      <th>2</th>\n",
       "      <td>24093</td>\n",
       "      <td>9701</td>\n",
       "      <td>1373</td>\n",
       "      <td>2021-11-11</td>\n",
       "      <td>first</td>\n",
       "    </tr>\n",
       "    <tr>\n",
       "      <th>3</th>\n",
       "      <td>24093</td>\n",
       "      <td>9701</td>\n",
       "      <td>1401</td>\n",
       "      <td>2021-11-11</td>\n",
       "      <td>last</td>\n",
       "    </tr>\n",
       "    <tr>\n",
       "      <th>4</th>\n",
       "      <td>24093</td>\n",
       "      <td>9707</td>\n",
       "      <td>1402</td>\n",
       "      <td>2021-11-11</td>\n",
       "      <td>first</td>\n",
       "    </tr>\n",
       "    <tr>\n",
       "      <th>...</th>\n",
       "      <td>...</td>\n",
       "      <td>...</td>\n",
       "      <td>...</td>\n",
       "      <td>...</td>\n",
       "      <td>...</td>\n",
       "    </tr>\n",
       "    <tr>\n",
       "      <th>484723</th>\n",
       "      <td>97997</td>\n",
       "      <td>9443</td>\n",
       "      <td>117</td>\n",
       "      <td>2021-11-21</td>\n",
       "      <td>last</td>\n",
       "    </tr>\n",
       "    <tr>\n",
       "      <th>484724</th>\n",
       "      <td>97997</td>\n",
       "      <td>9474</td>\n",
       "      <td>118</td>\n",
       "      <td>2021-11-21</td>\n",
       "      <td>first</td>\n",
       "    </tr>\n",
       "    <tr>\n",
       "      <th>484725</th>\n",
       "      <td>97997</td>\n",
       "      <td>9474</td>\n",
       "      <td>743</td>\n",
       "      <td>2021-11-21</td>\n",
       "      <td>last</td>\n",
       "    </tr>\n",
       "    <tr>\n",
       "      <th>484726</th>\n",
       "      <td>97997</td>\n",
       "      <td>9443</td>\n",
       "      <td>0</td>\n",
       "      <td>2021-11-19</td>\n",
       "      <td>first</td>\n",
       "    </tr>\n",
       "    <tr>\n",
       "      <th>484727</th>\n",
       "      <td>97997</td>\n",
       "      <td>9443</td>\n",
       "      <td>549</td>\n",
       "      <td>2021-11-18</td>\n",
       "      <td>last</td>\n",
       "    </tr>\n",
       "  </tbody>\n",
       "</table>\n",
       "<p>484728 rows × 5 columns</p>\n",
       "</div>"
      ],
      "text/plain": [
       "        bike_id  station_id  shot        date  state\n",
       "0         24093        9705     0  2021-11-15  first\n",
       "1         24093        9705   739  2021-11-14   last\n",
       "2         24093        9701  1373  2021-11-11  first\n",
       "3         24093        9701  1401  2021-11-11   last\n",
       "4         24093        9707  1402  2021-11-11  first\n",
       "...         ...         ...   ...         ...    ...\n",
       "484723    97997        9443   117  2021-11-21   last\n",
       "484724    97997        9474   118  2021-11-21  first\n",
       "484725    97997        9474   743  2021-11-21   last\n",
       "484726    97997        9443     0  2021-11-19  first\n",
       "484727    97997        9443   549  2021-11-18   last\n",
       "\n",
       "[484728 rows x 5 columns]"
      ]
     },
     "execution_count": 8,
     "metadata": {},
     "output_type": "execute_result"
    }
   ],
   "source": [
    "bikes = pd.read_csv('bikes_assignments_nr.csv')\n",
    "bikes"
   ]
  },
  {
   "cell_type": "code",
   "execution_count": 9,
   "metadata": {},
   "outputs": [],
   "source": [
    "# bikes[(bikes['date'] == '2021-11-11') & (bikes['bike_id'] == 97997) ].sort_values('shot')"
   ]
  },
  {
   "cell_type": "code",
   "execution_count": 10,
   "metadata": {},
   "outputs": [
    {
     "ename": "KeyboardInterrupt",
     "evalue": "",
     "output_type": "error",
     "traceback": [
      "\u001b[1;31m---------------------------------------------------------------------------\u001b[0m",
      "\u001b[1;31mKeyboardInterrupt\u001b[0m                         Traceback (most recent call last)",
      "\u001b[1;32m<ipython-input-10-e026021c0ce4>\u001b[0m in \u001b[0;36m<module>\u001b[1;34m\u001b[0m\n\u001b[0;32m      1\u001b[0m \u001b[1;31m# bikes = bikes[(bikes['date'] == '2021-11-11') & (bikes['state'] == 'last')].reset_index()\u001b[0m\u001b[1;33m\u001b[0m\u001b[1;33m\u001b[0m\u001b[1;33m\u001b[0m\u001b[0m\n\u001b[0;32m      2\u001b[0m \u001b[0mn_shots\u001b[0m \u001b[1;33m=\u001b[0m \u001b[0mmax\u001b[0m\u001b[1;33m(\u001b[0m\u001b[0mbikes\u001b[0m\u001b[1;33m[\u001b[0m\u001b[1;34m'shot'\u001b[0m\u001b[1;33m]\u001b[0m\u001b[1;33m)\u001b[0m\u001b[1;33m\u001b[0m\u001b[1;33m\u001b[0m\u001b[0m\n\u001b[1;32m----> 3\u001b[1;33m \u001b[0mbikes\u001b[0m\u001b[1;33m[\u001b[0m\u001b[1;34m'time'\u001b[0m\u001b[1;33m]\u001b[0m \u001b[1;33m=\u001b[0m \u001b[1;33m[\u001b[0m\u001b[0mdatetime\u001b[0m\u001b[1;33m.\u001b[0m\u001b[0mstrptime\u001b[0m\u001b[1;33m(\u001b[0m\u001b[0mmax\u001b[0m\u001b[1;33m(\u001b[0m\u001b[0mbikes\u001b[0m\u001b[1;33m[\u001b[0m\u001b[1;34m'date'\u001b[0m\u001b[1;33m]\u001b[0m\u001b[1;33m)\u001b[0m\u001b[1;33m,\u001b[0m \u001b[1;34m'%Y-%m-%d'\u001b[0m\u001b[1;33m)\u001b[0m \u001b[1;33m+\u001b[0m \u001b[0mtimedelta\u001b[0m\u001b[1;33m(\u001b[0m\u001b[0mdays\u001b[0m\u001b[1;33m=\u001b[0m\u001b[0mshot\u001b[0m\u001b[1;33m/\u001b[0m\u001b[0mn_shots\u001b[0m\u001b[1;33m)\u001b[0m \u001b[1;32mfor\u001b[0m \u001b[0mshot\u001b[0m \u001b[1;32min\u001b[0m \u001b[0mbikes\u001b[0m\u001b[1;33m[\u001b[0m\u001b[1;34m'shot'\u001b[0m\u001b[1;33m]\u001b[0m\u001b[1;33m]\u001b[0m\u001b[1;33m\u001b[0m\u001b[1;33m\u001b[0m\u001b[0m\n\u001b[0m\u001b[0;32m      4\u001b[0m \u001b[0mbikes\u001b[0m\u001b[1;33m\u001b[0m\u001b[1;33m\u001b[0m\u001b[0m\n",
      "\u001b[1;32m<ipython-input-10-e026021c0ce4>\u001b[0m in \u001b[0;36m<listcomp>\u001b[1;34m(.0)\u001b[0m\n\u001b[0;32m      1\u001b[0m \u001b[1;31m# bikes = bikes[(bikes['date'] == '2021-11-11') & (bikes['state'] == 'last')].reset_index()\u001b[0m\u001b[1;33m\u001b[0m\u001b[1;33m\u001b[0m\u001b[1;33m\u001b[0m\u001b[0m\n\u001b[0;32m      2\u001b[0m \u001b[0mn_shots\u001b[0m \u001b[1;33m=\u001b[0m \u001b[0mmax\u001b[0m\u001b[1;33m(\u001b[0m\u001b[0mbikes\u001b[0m\u001b[1;33m[\u001b[0m\u001b[1;34m'shot'\u001b[0m\u001b[1;33m]\u001b[0m\u001b[1;33m)\u001b[0m\u001b[1;33m\u001b[0m\u001b[1;33m\u001b[0m\u001b[0m\n\u001b[1;32m----> 3\u001b[1;33m \u001b[0mbikes\u001b[0m\u001b[1;33m[\u001b[0m\u001b[1;34m'time'\u001b[0m\u001b[1;33m]\u001b[0m \u001b[1;33m=\u001b[0m \u001b[1;33m[\u001b[0m\u001b[0mdatetime\u001b[0m\u001b[1;33m.\u001b[0m\u001b[0mstrptime\u001b[0m\u001b[1;33m(\u001b[0m\u001b[0mmax\u001b[0m\u001b[1;33m(\u001b[0m\u001b[0mbikes\u001b[0m\u001b[1;33m[\u001b[0m\u001b[1;34m'date'\u001b[0m\u001b[1;33m]\u001b[0m\u001b[1;33m)\u001b[0m\u001b[1;33m,\u001b[0m \u001b[1;34m'%Y-%m-%d'\u001b[0m\u001b[1;33m)\u001b[0m \u001b[1;33m+\u001b[0m \u001b[0mtimedelta\u001b[0m\u001b[1;33m(\u001b[0m\u001b[0mdays\u001b[0m\u001b[1;33m=\u001b[0m\u001b[0mshot\u001b[0m\u001b[1;33m/\u001b[0m\u001b[0mn_shots\u001b[0m\u001b[1;33m)\u001b[0m \u001b[1;32mfor\u001b[0m \u001b[0mshot\u001b[0m \u001b[1;32min\u001b[0m \u001b[0mbikes\u001b[0m\u001b[1;33m[\u001b[0m\u001b[1;34m'shot'\u001b[0m\u001b[1;33m]\u001b[0m\u001b[1;33m]\u001b[0m\u001b[1;33m\u001b[0m\u001b[1;33m\u001b[0m\u001b[0m\n\u001b[0m\u001b[0;32m      4\u001b[0m \u001b[0mbikes\u001b[0m\u001b[1;33m\u001b[0m\u001b[1;33m\u001b[0m\u001b[0m\n",
      "\u001b[1;32m~\\miniconda3\\envs\\rowerki_dsw\\lib\\_strptime.py\u001b[0m in \u001b[0;36m_strptime_datetime\u001b[1;34m(cls, data_string, format)\u001b[0m\n\u001b[0;32m    563\u001b[0m     \u001b[1;32mreturn\u001b[0m \u001b[0mtime\u001b[0m\u001b[1;33m.\u001b[0m\u001b[0mstruct_time\u001b[0m\u001b[1;33m(\u001b[0m\u001b[0mtt\u001b[0m\u001b[1;33m[\u001b[0m\u001b[1;33m:\u001b[0m\u001b[0mtime\u001b[0m\u001b[1;33m.\u001b[0m\u001b[0m_STRUCT_TM_ITEMS\u001b[0m\u001b[1;33m]\u001b[0m\u001b[1;33m)\u001b[0m\u001b[1;33m\u001b[0m\u001b[1;33m\u001b[0m\u001b[0m\n\u001b[0;32m    564\u001b[0m \u001b[1;33m\u001b[0m\u001b[0m\n\u001b[1;32m--> 565\u001b[1;33m \u001b[1;32mdef\u001b[0m \u001b[0m_strptime_datetime\u001b[0m\u001b[1;33m(\u001b[0m\u001b[0mcls\u001b[0m\u001b[1;33m,\u001b[0m \u001b[0mdata_string\u001b[0m\u001b[1;33m,\u001b[0m \u001b[0mformat\u001b[0m\u001b[1;33m=\u001b[0m\u001b[1;34m\"%a %b %d %H:%M:%S %Y\"\u001b[0m\u001b[1;33m)\u001b[0m\u001b[1;33m:\u001b[0m\u001b[1;33m\u001b[0m\u001b[1;33m\u001b[0m\u001b[0m\n\u001b[0m\u001b[0;32m    566\u001b[0m     \"\"\"Return a class cls instance based on the input string and the\n\u001b[0;32m    567\u001b[0m     format string.\"\"\"\n",
      "\u001b[1;31mKeyboardInterrupt\u001b[0m: "
     ]
    }
   ],
   "source": [
    "# bikes = bikes[(bikes['date'] == '2021-11-11') & (bikes['state'] == 'last')].reset_index()\n",
    "n_shots = max(bikes['shot'])\n",
    "bikes['time'] = [datetime.strptime(max(bikes['date']), '%Y-%m-%d') + timedelta(days=shot/n_shots) for shot in bikes['shot']]\n",
    "bikes"
   ]
  },
  {
   "cell_type": "code",
   "execution_count": 11,
   "metadata": {},
   "outputs": [
    {
     "data": {
      "text/plain": [
       "5718"
      ]
     },
     "execution_count": 11,
     "metadata": {},
     "output_type": "execute_result"
    }
   ],
   "source": [
    "n_shots"
   ]
  },
  {
   "cell_type": "code",
   "execution_count": 12,
   "metadata": {},
   "outputs": [
    {
     "data": {
      "text/plain": [
       "86400"
      ]
     },
     "execution_count": 12,
     "metadata": {},
     "output_type": "execute_result"
    }
   ],
   "source": [
    "24*60*60"
   ]
  },
  {
   "cell_type": "code",
   "execution_count": 5,
   "metadata": {},
   "outputs": [],
   "source": [
    "plot_settings = {'markersize': 30}\n",
    "IMG_PATH = 'imgs'\n",
    "if os.path.exists(IMG_PATH):\n",
    "    shutil.rmtree(IMG_PATH)\n",
    "os.makedirs(IMG_PATH, exist_ok=True)\n",
    "t, i = min(bikes['time']) + timedelta(hours=3), 0\n",
    "delta  = timedelta(minutes=10)\n",
    "colors_period = pd.Series(np.zeros(stations.shape[0]))\n",
    "while t < min(bikes['time']) + timedelta(hours=24):\n",
    "    fig, ax = plt.subplots(figsize=(30, 20))\n",
    "    plt.title(t.strftime('%H:%M'))\n",
    "    stations_period = bikes[(bikes['time']>=t) & (bikes['time']< t+delta)]['station_id']\n",
    "    colors_period[stations['station_id'].isin(stations_period)] = 1\n",
    "    ax = stations.plot(ax=ax, c=colors_period.map(lambda x: (1, 1-x, 1-x)), **plot_settings)\n",
    "    cx.add_basemap(ax=ax, crs=stations.crs.to_string())\n",
    "    fig.savefig(f'{IMG_PATH}/img{i:0>5}.png', \n",
    "              dpi=100, format='png', \n",
    "              bbox_inches='tight')\n",
    "    plt.close()\n",
    "#     print(t, i, colors_period[:10])\n",
    "    i += 1\n",
    "    t += delta\n",
    "    colors_period *= 0.75"
   ]
  },
  {
   "cell_type": "code",
   "execution_count": 7,
   "metadata": {},
   "outputs": [],
   "source": [
    "filenames = [os.path.join(IMG_PATH, x ) for x in sorted(os.listdir(IMG_PATH))]"
   ]
  },
  {
   "cell_type": "code",
   "execution_count": 8,
   "metadata": {},
   "outputs": [
    {
     "name": "stdout",
     "output_type": "stream",
     "text": [
      "Moviepy - Building video my_video.mp4.\n",
      "Moviepy - Writing video my_video.mp4\n",
      "\n"
     ]
    },
    {
     "name": "stderr",
     "output_type": "stream",
     "text": [
      "                                                                                                                                                                                          \r"
     ]
    },
    {
     "name": "stdout",
     "output_type": "stream",
     "text": [
      "Moviepy - Done !\n",
      "Moviepy - video ready my_video.mp4\n"
     ]
    }
   ],
   "source": [
    "import moviepy.video.io.ImageSequenceClip as vid\n",
    "clip = vid.ImageSequenceClip(filenames, fps=1)\n",
    "clip.write_videofile('my_video.mp4')"
   ]
  },
  {
   "cell_type": "code",
   "execution_count": 9,
   "metadata": {
    "scrolled": true
   },
   "outputs": [],
   "source": [
    "with imageio.get_writer('movie.gif', mode='I', duration=1) as writer:\n",
    "    for filename in filenames:\n",
    "        image = imageio.imread(filename)\n",
    "        writer.append_data(image)"
   ]
  },
  {
   "cell_type": "code",
   "execution_count": null,
   "metadata": {},
   "outputs": [],
   "source": []
  }
 ],
 "metadata": {
  "kernelspec": {
   "display_name": "rowerki_env",
   "language": "python",
   "name": "rowerki_env"
  },
  "language_info": {
   "codemirror_mode": {
    "name": "ipython",
    "version": 3
   },
   "file_extension": ".py",
   "mimetype": "text/x-python",
   "name": "python",
   "nbconvert_exporter": "python",
   "pygments_lexer": "ipython3",
   "version": "3.8.13"
  }
 },
 "nbformat": 4,
 "nbformat_minor": 4
}
