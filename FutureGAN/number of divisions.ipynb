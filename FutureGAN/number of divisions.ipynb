{
 "cells": [
  {
   "cell_type": "code",
   "execution_count": 1,
   "metadata": {},
   "outputs": [],
   "source": [
    "from utils import get_stations\n",
    "import pandas as pd\n",
    "import numpy as np\n",
    "import matplotlib.pyplot as plt"
   ]
  },
  {
   "cell_type": "code",
   "execution_count": 2,
   "metadata": {},
   "outputs": [],
   "source": [
    "stations = get_stations()\n",
    "stations = stations[stations['place_type'] != '14'] #exclude electric stations, which are frequently very close to normal stations "
   ]
  },
  {
   "cell_type": "code",
   "execution_count": 3,
   "metadata": {},
   "outputs": [
    {
     "data": {
      "text/plain": [
       "308"
      ]
     },
     "execution_count": 3,
     "metadata": {},
     "output_type": "execute_result"
    }
   ],
   "source": [
    "bounding_rectangle = [[min(stations['lat']),max(stations['lat'] + 1e-7)], [min(stations['lng']),max(stations['lng'])  + 1e-7]]\n",
    "widths = [dimension[1] - dimension[0] for dimension in bounding_rectangle]\n",
    "def check_number_of_divisions(number_of_divisions:int):\n",
    "    \"\"\"Given a number of number_of_divisions, splits the map of stations into (number_of_divisions)^2 squares \n",
    "        and checks if there is more than one station in every division\"\"\"\n",
    "    for row in range(number_of_divisions): \n",
    "        for col in range(number_of_divisions): \n",
    "            station_in_rectangle = (stations['lat']>= (row)*widths[0]/number_of_divisions + bounding_rectangle[0][0]) &\\\n",
    "            (stations['lat']< (row+1)*widths[0]/number_of_divisions + bounding_rectangle[0][0]) &\\\n",
    "            (stations['lng']>= (col)*widths[1]/number_of_divisions + bounding_rectangle[1][0]) &\\\n",
    "            (stations['lng']< (col+1)*widths[1]/number_of_divisions + bounding_rectangle[1][0])\n",
    "            if sum(station_in_rectangle) >1:\n",
    "                return True\n",
    "    return False\n",
    "for number_of_divisions in range(1, len(stations)):\n",
    "    if(check_number_of_divisions(number_of_divisions) == False):\n",
    "        break\n",
    "number_of_divisions"
   ]
  },
  {
   "cell_type": "code",
   "execution_count": 4,
   "metadata": {},
   "outputs": [
    {
     "data": {
      "text/plain": [
       "False"
      ]
     },
     "execution_count": 4,
     "metadata": {},
     "output_type": "execute_result"
    }
   ],
   "source": [
    "check_number_of_divisions(308)"
   ]
  }
 ],
 "metadata": {
  "kernelspec": {
   "display_name": "uni",
   "language": "python",
   "name": "uni"
  },
  "language_info": {
   "codemirror_mode": {
    "name": "ipython",
    "version": 3
   },
   "file_extension": ".py",
   "mimetype": "text/x-python",
   "name": "python",
   "nbconvert_exporter": "python",
   "pygments_lexer": "ipython3",
   "version": "3.8.13"
  }
 },
 "nbformat": 4,
 "nbformat_minor": 4
}
